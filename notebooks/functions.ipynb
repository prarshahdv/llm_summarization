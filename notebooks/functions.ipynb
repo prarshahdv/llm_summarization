{
 "cells": [
  {
   "cell_type": "code",
   "execution_count": 0,
   "metadata": {
    "application/vnd.databricks.v1+cell": {
     "cellMetadata": {},
     "inputWidgets": {},
     "nuid": "c747babc-7ae2-4e56-92ee-726b294080c2",
     "showTitle": false,
     "title": ""
    }
   },
   "outputs": [],
   "source": [
    "import logging\n",
    "import os\n",
    "import fitz  # PyMuPDF\n",
    "from langchain.vectorstores import Chroma\n",
    "from langchain.text_splitter import RecursiveCharacterTextSplitter\n",
    "from langchain.chains import ConversationalRetrievalChain\n",
    "from langchain.memory import ConversationBufferMemory\n",
    "from langchain.embeddings import OpenAIEmbeddings\n",
    "from langchain import PromptTemplate\n",
    "import asyncio\n",
    "\n",
    "def read_pdf_to_string(dir_path):\n",
    "    pdf_to_str = []\n",
    "    for file_path in os.listdir(dir_path):\n",
    "        doc = fitz.open(os.path.join(dir_path, file_path))\n",
    "        text = \"\"\n",
    "        for page_num in range(doc.page_count):\n",
    "            page = doc[page_num]\n",
    "            text += page.get_text()\n",
    "        pdf_to_str.append(text)\n",
    "    return pdf_to_str\n"
   ]
  }
 ],
 "metadata": {
  "application/vnd.databricks.v1+notebook": {
   "dashboards": [],
   "language": "python",
   "notebookMetadata": {
    "pythonIndentUnit": 4
   },
   "notebookName": "functions",
   "widgets": {}
  }
 },
 "nbformat": 4,
 "nbformat_minor": 0
}
