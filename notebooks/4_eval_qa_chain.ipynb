{
 "cells": [
  {
   "cell_type": "markdown",
   "metadata": {
    "application/vnd.databricks.v1+cell": {
     "cellMetadata": {
      "byteLimit": 2048000,
      "rowLimit": 10000
     },
     "inputWidgets": {},
     "nuid": "621ad87e-bbad-4f3a-9215-6a13ea26a489",
     "showTitle": false,
     "title": ""
    }
   },
   "source": [
    "\n",
    "# Evaluation\n",
    "\n",
    "When building a complex application using the LLM, one of the important but sometimes tricky steps is \n",
    "- how do you evaluate how well your application is doing?\n",
    "- is it meeting some accuracty criteria?\n",
    "\n",
    "Also also if you decide to change your implementation, \n",
    "- may be swap in a different LLM, OR \n",
    "- change the strategy of how you use a vector database OR \n",
    "- decided to use different chunking configuration OR \n",
    "- change some other parameters of your system. \n",
    "\n",
    "<b>How do you know if you are making it better or worse? <b/>\n",
    "\n",
    "In this notebook we will see how to think about evaluating LLM-based application as well as utility chain in LangChain to help with the same. \n",
    "\n",
    "LLM applications are really chains and sequence of a lot of different steps. So the first thing that you should do is just understand what exatly is going in and coming out of each step. \n",
    "\n",
    "And one way to that is by looking at things by eye. But there's also this really super cool idea of using language models and chains themselves to evaluate other language models, chains and applications. \n"
   ]
  },
  {
   "cell_type": "code",
   "execution_count": 0,
   "metadata": {
    "application/vnd.databricks.v1+cell": {
     "cellMetadata": {
      "byteLimit": 2048000,
      "rowLimit": 10000
     },
     "inputWidgets": {},
     "nuid": "3c32774d-a63a-4930-bcfc-62c341abf9fb",
     "showTitle": false,
     "title": ""
    }
   },
   "outputs": [],
   "source": [
    "%run \"./utils/config\""
   ]
  },
  {
   "cell_type": "code",
   "execution_count": 0,
   "metadata": {
    "application/vnd.databricks.v1+cell": {
     "cellMetadata": {
      "byteLimit": 2048000,
      "rowLimit": 10000
     },
     "inputWidgets": {},
     "nuid": "d806a554-ec1a-47aa-aca4-294a2a31e7fe",
     "showTitle": false,
     "title": ""
    }
   },
   "outputs": [
    {
     "output_type": "stream",
     "name": "stderr",
     "output_type": "stream",
     "text": [
      "2023/09/16 10:07:35 INFO mlflow.pyfunc: To install the dependencies that were used to train the model, run the following command: '%pip install -r /tmp/tmpt7i28vwp/requirements.txt'.\n"
     ]
    },
    {
     "output_type": "stream",
     "name": "stdout",
     "output_type": "stream",
     "text": [
      "\u001B[43mNote: you may need to restart the kernel using dbutils.library.restartPython() to use updated packages.\u001B[0m\nCollecting mlflow==2.5.0\n  Using cached mlflow-2.5.0-py3-none-any.whl (18.2 MB)\nRequirement already satisfied: astunparse==1.6.3 in /databricks/python3/lib/python3.10/site-packages (from -r /tmp/tmpt7i28vwp/requirements.txt (line 2)) (1.6.3)\nRequirement already satisfied: cloudpickle==2.0.0 in /databricks/python3/lib/python3.10/site-packages (from -r /tmp/tmpt7i28vwp/requirements.txt (line 3)) (2.0.0)\nRequirement already satisfied: configparser==5.2.0 in /databricks/python3/lib/python3.10/site-packages (from -r /tmp/tmpt7i28vwp/requirements.txt (line 4)) (5.2.0)\nRequirement already satisfied: dill==0.3.4 in /databricks/python3/lib/python3.10/site-packages (from -r /tmp/tmpt7i28vwp/requirements.txt (line 5)) (0.3.4)\nRequirement already satisfied: faiss-cpu==1.7.4 in /local_disk0/.ephemeral_nfs/cluster_libraries/python/lib/python3.10/site-packages (from -r /tmp/tmpt7i28vwp/requirements.txt (line 6)) (1.7.4)\nRequirement already satisfied: gunicorn==20.1.0 in /databricks/python3/lib/python3.10/site-packages (from -r /tmp/tmpt7i28vwp/requirements.txt (line 7)) (20.1.0)\nRequirement already satisfied: ipython==8.10.0 in /databricks/python3/lib/python3.10/site-packages (from -r /tmp/tmpt7i28vwp/requirements.txt (line 8)) (8.10.0)\nCollecting nemoguardrails==0.5.0\n  Using cached nemoguardrails-0.5.0-py3-none-any.whl (13.9 MB)\nRequirement already satisfied: openai==0.27.8 in /databricks/python3/lib/python3.10/site-packages (from -r /tmp/tmpt7i28vwp/requirements.txt (line 10)) (0.27.8)\nRequirement already satisfied: opt-einsum==3.3.0 in /databricks/python3/lib/python3.10/site-packages (from -r /tmp/tmpt7i28vwp/requirements.txt (line 11)) (3.3.0)\nRequirement already satisfied: psutil==5.9.0 in /databricks/python3/lib/python3.10/site-packages (from -r /tmp/tmpt7i28vwp/requirements.txt (line 12)) (5.9.0)\nRequirement already satisfied: tornado==6.1 in /databricks/python3/lib/python3.10/site-packages (from -r /tmp/tmpt7i28vwp/requirements.txt (line 13)) (6.1)\nCollecting langchain==0.0.251\n  Using cached langchain-0.0.251-py3-none-any.whl (1.4 MB)\nRequirement already satisfied: tiktoken==0.4.0 in /databricks/python3/lib/python3.10/site-packages (from -r /tmp/tmpt7i28vwp/requirements.txt (line 17)) (0.4.0)\nCollecting watchdog==3.0.0\n  Using cached watchdog-3.0.0-py3-none-manylinux2014_x86_64.whl (82 kB)\nCollecting PyMuPDF==1.23.3\n  Using cached PyMuPDF-1.23.3-cp310-none-manylinux2014_x86_64.whl (4.3 MB)\nCollecting pysqlite-binary\n  Using cached pysqlite_binary-0.5.1.3380300-cp310-cp310-manylinux_2_17_x86_64.manylinux2014_x86_64.whl (4.0 MB)\nRequirement already satisfied: Flask in /databricks/python3/lib/python3.10/site-packages (from -r /tmp/tmpt7i28vwp/requirements.txt (line 22)) (1.1.2+db1)\nCollecting querystring-parser<2\n  Using cached querystring_parser-1.2.4-py2.py3-none-any.whl (7.9 kB)\nRequirement already satisfied: entrypoints<1 in /databricks/python3/lib/python3.10/site-packages (from mlflow==2.5.0->-r /tmp/tmpt7i28vwp/requirements.txt (line 1)) (0.4)\nRequirement already satisfied: protobuf<5,>=3.12.0 in /databricks/python3/lib/python3.10/site-packages (from mlflow==2.5.0->-r /tmp/tmpt7i28vwp/requirements.txt (line 1)) (3.19.4)\nRequirement already satisfied: markdown<4,>=3.3 in /databricks/python3/lib/python3.10/site-packages (from mlflow==2.5.0->-r /tmp/tmpt7i28vwp/requirements.txt (line 1)) (3.3.4)\nRequirement already satisfied: scipy<2 in /databricks/python3/lib/python3.10/site-packages (from mlflow==2.5.0->-r /tmp/tmpt7i28vwp/requirements.txt (line 1)) (1.9.1)\nRequirement already satisfied: scikit-learn<2 in /databricks/python3/lib/python3.10/site-packages (from mlflow==2.5.0->-r /tmp/tmpt7i28vwp/requirements.txt (line 1)) (1.1.1)\nRequirement already satisfied: pandas<3 in /databricks/python3/lib/python3.10/site-packages (from mlflow==2.5.0->-r /tmp/tmpt7i28vwp/requirements.txt (line 1)) (1.4.4)\nRequirement already satisfied: matplotlib<4 in /databricks/python3/lib/python3.10/site-packages (from mlflow==2.5.0->-r /tmp/tmpt7i28vwp/requirements.txt (line 1)) (3.5.2)\nCollecting alembic!=1.10.0,<2\n  Using cached alembic-1.12.0-py3-none-any.whl (226 kB)\nRequirement already satisfied: numpy<2 in /databricks/python3/lib/python3.10/site-packages (from mlflow==2.5.0->-r /tmp/tmpt7i28vwp/requirements.txt (line 1)) (1.21.5)\nRequirement already satisfied: sqlalchemy<3,>=1.4.0 in /databricks/python3/lib/python3.10/site-packages (from mlflow==2.5.0->-r /tmp/tmpt7i28vwp/requirements.txt (line 1)) (1.4.39)\nRequirement already satisfied: sqlparse<1,>=0.4.0 in /databricks/python3/lib/python3.10/site-packages (from mlflow==2.5.0->-r /tmp/tmpt7i28vwp/requirements.txt (line 1)) (0.4.2)\nRequirement already satisfied: pyarrow<13,>=4.0.0 in /databricks/python3/lib/python3.10/site-packages (from mlflow==2.5.0->-r /tmp/tmpt7i28vwp/requirements.txt (line 1)) (8.0.0)\nRequirement already satisfied: packaging<24 in /databricks/python3/lib/python3.10/site-packages (from mlflow==2.5.0->-r /tmp/tmpt7i28vwp/requirements.txt (line 1)) (21.3)\nRequirement already satisfied: databricks-cli<1,>=0.8.7 in /databricks/python3/lib/python3.10/site-packages (from mlflow==2.5.0->-r /tmp/tmpt7i28vwp/requirements.txt (line 1)) (0.17.7)\nRequirement already satisfied: click<9,>=7.0 in /databricks/python3/lib/python3.10/site-packages (from mlflow==2.5.0->-r /tmp/tmpt7i28vwp/requirements.txt (line 1)) (8.0.4)\nRequirement already satisfied: gitpython<4,>=2.1.0 in /databricks/python3/lib/python3.10/site-packages (from mlflow==2.5.0->-r /tmp/tmpt7i28vwp/requirements.txt (line 1)) (3.1.27)\nRequirement already satisfied: Jinja2<4,>=2.11 in /databricks/python3/lib/python3.10/site-packages (from mlflow==2.5.0->-r /tmp/tmpt7i28vwp/requirements.txt (line 1)) (2.11.3)\nRequirement already satisfied: requests<3,>=2.17.3 in /databricks/python3/lib/python3.10/site-packages (from mlflow==2.5.0->-r /tmp/tmpt7i28vwp/requirements.txt (line 1)) (2.28.1)\nRequirement already satisfied: importlib-metadata!=4.7.0,<7,>=3.7.0 in /databricks/python3/lib/python3.10/site-packages (from mlflow==2.5.0->-r /tmp/tmpt7i28vwp/requirements.txt (line 1)) (4.11.3)\nRequirement already satisfied: pytz<2024 in /databricks/python3/lib/python3.10/site-packages (from mlflow==2.5.0->-r /tmp/tmpt7i28vwp/requirements.txt (line 1)) (2022.1)\nRequirement already satisfied: pyyaml<7,>=5.1 in /databricks/python3/lib/python3.10/site-packages (from mlflow==2.5.0->-r /tmp/tmpt7i28vwp/requirements.txt (line 1)) (6.0)\nCollecting docker<7,>=4.0.0\n  Using cached docker-6.1.3-py3-none-any.whl (148 kB)\nRequirement already satisfied: wheel<1.0,>=0.23.0 in /databricks/python3/lib/python3.10/site-packages (from astunparse==1.6.3->-r /tmp/tmpt7i28vwp/requirements.txt (line 2)) (0.37.1)\nRequirement already satisfied: six<2.0,>=1.6.1 in /usr/lib/python3/dist-packages (from astunparse==1.6.3->-r /tmp/tmpt7i28vwp/requirements.txt (line 2)) (1.16.0)\nRequirement already satisfied: setuptools>=3.0 in /databricks/python3/lib/python3.10/site-packages (from gunicorn==20.1.0->-r /tmp/tmpt7i28vwp/requirements.txt (line 7)) (63.4.1)\nRequirement already satisfied: pickleshare in /databricks/python3/lib/python3.10/site-packages (from ipython==8.10.0->-r /tmp/tmpt7i28vwp/requirements.txt (line 8)) (0.7.5)\nRequirement already satisfied: backcall in /databricks/python3/lib/python3.10/site-packages (from ipython==8.10.0->-r /tmp/tmpt7i28vwp/requirements.txt (line 8)) (0.2.0)\nRequirement already satisfied: traitlets>=5 in /databricks/python3/lib/python3.10/site-packages (from ipython==8.10.0->-r /tmp/tmpt7i28vwp/requirements.txt (line 8)) (5.1.1)\nRequirement already satisfied: pygments>=2.4.0 in /local_disk0/.ephemeral_nfs/cluster_libraries/python/lib/python3.10/site-packages (from ipython==8.10.0->-r /tmp/tmpt7i28vwp/requirements.txt (line 8)) (2.16.1)\nRequirement already satisfied: stack-data in /databricks/python3/lib/python3.10/site-packages (from ipython==8.10.0->-r /tmp/tmpt7i28vwp/requirements.txt (line 8)) (0.6.2)\nRequirement already satisfied: jedi>=0.16 in /databricks/python3/lib/python3.10/site-packages (from ipython==8.10.0->-r /tmp/tmpt7i28vwp/requirements.txt (line 8)) (0.18.1)\nRequirement already satisfied: pexpect>4.3 in /databricks/python3/lib/python3.10/site-packages (from ipython==8.10.0->-r /tmp/tmpt7i28vwp/requirements.txt (line 8)) (4.8.0)\nRequirement already satisfied: decorator in /databricks/python3/lib/python3.10/site-packages (from ipython==8.10.0->-r /tmp/tmpt7i28vwp/requirements.txt (line 8)) (5.1.1)\nRequirement already satisfied: prompt-toolkit<3.1.0,>=3.0.30 in /databricks/python3/lib/python3.10/site-packages (from ipython==8.10.0->-r /tmp/tmpt7i28vwp/requirements.txt (line 8)) (3.0.36)\nRequirement already satisfied: matplotlib-inline in /databricks/python3/lib/python3.10/site-packages (from ipython==8.10.0->-r /tmp/tmpt7i28vwp/requirements.txt (line 8)) (0.1.6)\nRequirement already satisfied: aiohttp==3.8.5 in /databricks/python3/lib/python3.10/site-packages (from nemoguardrails==0.5.0->-r /tmp/tmpt7i28vwp/requirements.txt (line 9)) (3.8.5)\nCollecting typing-extensions==4.5.0\n  Using cached typing_extensions-4.5.0-py3-none-any.whl (27 kB)\nCollecting Jinja2<4,>=2.11\n  Using cached Jinja2-3.1.2-py3-none-any.whl (133 kB)\nRequirement already satisfied: starlette==0.27.0 in /databricks/python3/lib/python3.10/site-packages (from nemoguardrails==0.5.0->-r /tmp/tmpt7i28vwp/requirements.txt (line 9)) (0.27.0)\nCollecting annoy==1.17.3\n  Using cached annoy-1.17.3-cp310-cp310-linux_x86_64.whl\nCollecting nest-asyncio==1.5.6\n  Using cached nest_asyncio-1.5.6-py3-none-any.whl (5.2 kB)\nRequirement already satisfied: sentence-transformers==2.2.2 in /databricks/python3/lib/python3.10/site-packages (from nemoguardrails==0.5.0->-r /tmp/tmpt7i28vwp/requirements.txt (line 9)) (2.2.2)\nCollecting uvicorn==0.22.0\n  Using cached uvicorn-0.22.0-py3-none-any.whl (58 kB)\nRequirement already satisfied: httpx==0.23.3 in /local_disk0/.ephemeral_nfs/cluster_libraries/python/lib/python3.10/site-packages (from nemoguardrails==0.5.0->-r /tmp/tmpt7i28vwp/requirements.txt (line 9)) (0.23.3)\nCollecting requests<3,>=2.17.3\n  Using cached requests-2.31.0-py3-none-any.whl (62 kB)\nRequirement already satisfied: typer==0.7.0 in /databricks/python3/lib/python3.10/site-packages (from nemoguardrails==0.5.0->-r /tmp/tmpt7i28vwp/requirements.txt (line 9)) (0.7.0)\nRequirement already satisfied: pydantic~=1.10.6 in /local_disk0/.ephemeral_nfs/cluster_libraries/python/lib/python3.10/site-packages (from nemoguardrails==0.5.0->-r /tmp/tmpt7i28vwp/requirements.txt (line 9)) (1.10.12)\nCollecting setuptools>=3.0\n  Using cached setuptools-65.5.1-py3-none-any.whl (1.2 MB)\nCollecting fastapi==0.96.0\n  Using cached fastapi-0.96.0-py3-none-any.whl (57 kB)\nCollecting simpleeval==0.9.13\n  Using cached simpleeval-0.9.13-py2.py3-none-any.whl (15 kB)\nRequirement already satisfied: tqdm in /local_disk0/.ephemeral_nfs/cluster_libraries/python/lib/python3.10/site-packages (from openai==0.27.8->-r /tmp/tmpt7i28vwp/requirements.txt (line 10)) (4.65.0)\nRequirement already satisfied: async-timeout<5.0.0,>=4.0.0 in /databricks/python3/lib/python3.10/site-packages (from langchain==0.0.251->-r /tmp/tmpt7i28vwp/requirements.txt (line 15)) (4.0.3)\nCollecting langsmith<0.1.0,>=0.0.11\n  Using cached langsmith-0.0.37-py3-none-any.whl (38 kB)\nRequirement already satisfied: numexpr<3.0.0,>=2.8.4 in /databricks/python3/lib/python3.10/site-packages (from langchain==0.0.251->-r /tmp/tmpt7i28vwp/requirements.txt (line 15)) (2.8.4)\nRequirement already satisfied: openapi-schema-pydantic<2.0,>=1.2 in /databricks/python3/lib/python3.10/site-packages (from langchain==0.0.251->-r /tmp/tmpt7i28vwp/requirements.txt (line 15)) (1.2.4)\nRequirement already satisfied: dataclasses-json<0.6.0,>=0.5.7 in /databricks/python3/lib/python3.10/site-packages (from langchain==0.0.251->-r /tmp/tmpt7i28vwp/requirements.txt (line 15)) (0.5.14)\nRequirement already satisfied: tenacity<9.0.0,>=8.1.0 in /databricks/python3/lib/python3.10/site-packages (from langchain==0.0.251->-r /tmp/tmpt7i28vwp/requirements.txt (line 15)) (8.1.0)\nRequirement already satisfied: regex>=2022.1.18 in /databricks/python3/lib/python3.10/site-packages (from tiktoken==0.4.0->-r /tmp/tmpt7i28vwp/requirements.txt (line 17)) (2022.7.9)\nCollecting PyMuPDFb==1.23.3\n  Using cached PyMuPDFb-1.23.3-py3-none-manylinux2014_x86_64.manylinux_2_17_x86_64.whl (30.6 MB)\nRequirement already satisfied: multidict<7.0,>=4.5 in /databricks/python3/lib/python3.10/site-packages (from aiohttp==3.8.5->nemoguardrails==0.5.0->-r /tmp/tmpt7i28vwp/requirements.txt (line 9)) (6.0.4)\nRequirement already satisfied: yarl<2.0,>=1.0 in /databricks/python3/lib/python3.10/site-packages (from aiohttp==3.8.5->nemoguardrails==0.5.0->-r /tmp/tmpt7i28vwp/requirements.txt (line 9)) (1.9.2)\nRequirement already satisfied: charset-normalizer<4.0,>=2.0 in /databricks/python3/lib/python3.10/site-packages (from aiohttp==3.8.5->nemoguardrails==0.5.0->-r /tmp/tmpt7i28vwp/requirements.txt (line 9)) (2.0.4)\nRequirement already satisfied: frozenlist>=1.1.1 in /databricks/python3/lib/python3.10/site-packages (from aiohttp==3.8.5->nemoguardrails==0.5.0->-r /tmp/tmpt7i28vwp/requirements.txt (line 9)) (1.4.0)\nRequirement already satisfied: aiosignal>=1.1.2 in /databricks/python3/lib/python3.10/site-packages (from aiohttp==3.8.5->nemoguardrails==0.5.0->-r /tmp/tmpt7i28vwp/requirements.txt (line 9)) (1.3.1)\nRequirement already satisfied: attrs>=17.3.0 in /databricks/python3/lib/python3.10/site-packages (from aiohttp==3.8.5->nemoguardrails==0.5.0->-r /tmp/tmpt7i28vwp/requirements.txt (line 9)) (21.4.0)\nRequirement already satisfied: rfc3986[idna2008]<2,>=1.3 in /local_disk0/.ephemeral_nfs/cluster_libraries/python/lib/python3.10/site-packages (from httpx==0.23.3->nemoguardrails==0.5.0->-r /tmp/tmpt7i28vwp/requirements.txt (line 9)) (1.5.0)\nRequirement already satisfied: certifi in /local_disk0/.ephemeral_nfs/cluster_libraries/python/lib/python3.10/site-packages (from httpx==0.23.3->nemoguardrails==0.5.0->-r /tmp/tmpt7i28vwp/requirements.txt (line 9)) (2023.7.22)\nRequirement already satisfied: httpcore<0.17.0,>=0.15.0 in /local_disk0/.ephemeral_nfs/cluster_libraries/python/lib/python3.10/site-packages (from httpx==0.23.3->nemoguardrails==0.5.0->-r /tmp/tmpt7i28vwp/requirements.txt (line 9)) (0.16.3)\nRequirement already satisfied: sniffio in /databricks/python3/lib/python3.10/site-packages (from httpx==0.23.3->nemoguardrails==0.5.0->-r /tmp/tmpt7i28vwp/requirements.txt (line 9)) (1.2.0)\nRequirement already satisfied: MarkupSafe>=2.0 in /databricks/python3/lib/python3.10/site-packages (from Jinja2<4,>=2.11->mlflow==2.5.0->-r /tmp/tmpt7i28vwp/requirements.txt (line 1)) (2.0.1)\nRequirement already satisfied: nltk in /databricks/python3/lib/python3.10/site-packages (from sentence-transformers==2.2.2->nemoguardrails==0.5.0->-r /tmp/tmpt7i28vwp/requirements.txt (line 9)) (3.7)\nRequirement already satisfied: transformers<5.0.0,>=4.6.0 in /databricks/python3/lib/python3.10/site-packages (from sentence-transformers==2.2.2->nemoguardrails==0.5.0->-r /tmp/tmpt7i28vwp/requirements.txt (line 9)) (4.30.2)\nRequirement already satisfied: huggingface-hub>=0.4.0 in /databricks/python3/lib/python3.10/site-packages (from sentence-transformers==2.2.2->nemoguardrails==0.5.0->-r /tmp/tmpt7i28vwp/requirements.txt (line 9)) (0.16.4)\nRequirement already satisfied: torchvision in /databricks/python3/lib/python3.10/site-packages (from sentence-transformers==2.2.2->nemoguardrails==0.5.0->-r /tmp/tmpt7i28vwp/requirements.txt (line 9)) (0.14.1+cu117)\nRequirement already satisfied: sentencepiece in /databricks/python3/lib/python3.10/site-packages (from sentence-transformers==2.2.2->nemoguardrails==0.5.0->-r /tmp/tmpt7i28vwp/requirements.txt (line 9)) (0.1.99)\nRequirement already satisfied: torch>=1.6.0 in /databricks/python3/lib/python3.10/site-packages (from sentence-transformers==2.2.2->nemoguardrails==0.5.0->-r /tmp/tmpt7i28vwp/requirements.txt (line 9)) (1.13.1+cu117)\nRequirement already satisfied: anyio<5,>=3.4.0 in /databricks/python3/lib/python3.10/site-packages (from starlette==0.27.0->nemoguardrails==0.5.0->-r /tmp/tmpt7i28vwp/requirements.txt (line 9)) (3.5.0)\nRequirement already satisfied: h11>=0.8 in /databricks/python3/lib/python3.10/site-packages (from uvicorn==0.22.0->nemoguardrails==0.5.0->-r /tmp/tmpt7i28vwp/requirements.txt (line 9)) (0.14.0)\nRequirement already satisfied: itsdangerous>=0.24 in /databricks/python3/lib/python3.10/site-packages (from Flask->-r /tmp/tmpt7i28vwp/requirements.txt (line 22)) (2.0.1)\nRequirement already satisfied: Werkzeug>=0.15 in /databricks/python3/lib/python3.10/site-packages (from Flask->-r /tmp/tmpt7i28vwp/requirements.txt (line 22)) (2.0.3)\nRequirement already satisfied: Mako in /databricks/python3/lib/python3.10/site-packages (from alembic!=1.10.0,<2->mlflow==2.5.0->-r /tmp/tmpt7i28vwp/requirements.txt (line 1)) (1.2.0)\nRequirement already satisfied: urllib3<2.0.0,>=1.26.7 in /databricks/python3/lib/python3.10/site-packages (from databricks-cli<1,>=0.8.7->mlflow==2.5.0->-r /tmp/tmpt7i28vwp/requirements.txt (line 1)) (1.26.11)\nRequirement already satisfied: oauthlib>=3.1.0 in /usr/lib/python3/dist-packages (from databricks-cli<1,>=0.8.7->mlflow==2.5.0->-r /tmp/tmpt7i28vwp/requirements.txt (line 1)) (3.2.0)\nRequirement already satisfied: tabulate>=0.7.7 in /local_disk0/.ephemeral_nfs/cluster_libraries/python/lib/python3.10/site-packages (from databricks-cli<1,>=0.8.7->mlflow==2.5.0->-r /tmp/tmpt7i28vwp/requirements.txt (line 1)) (0.9.0)\nRequirement already satisfied: pyjwt>=1.7.0 in /usr/lib/python3/dist-packages (from databricks-cli<1,>=0.8.7->mlflow==2.5.0->-r /tmp/tmpt7i28vwp/requirements.txt (line 1)) (2.3.0)\nRequirement already satisfied: marshmallow<4.0.0,>=3.18.0 in /databricks/python3/lib/python3.10/site-packages (from dataclasses-json<0.6.0,>=0.5.7->langchain==0.0.251->-r /tmp/tmpt7i28vwp/requirements.txt (line 15)) (3.20.1)\nRequirement already satisfied: typing-inspect<1,>=0.4.0 in /databricks/python3/lib/python3.10/site-packages (from dataclasses-json<0.6.0,>=0.5.7->langchain==0.0.251->-r /tmp/tmpt7i28vwp/requirements.txt (line 15)) (0.9.0)\nRequirement already satisfied: websocket-client>=0.32.0 in /databricks/python3/lib/python3.10/site-packages (from docker<7,>=4.0.0->mlflow==2.5.0->-r /tmp/tmpt7i28vwp/requirements.txt (line 1)) (0.58.0)\nRequirement already satisfied: gitdb<5,>=4.0.1 in /databricks/python3/lib/python3.10/site-packages (from gitpython<4,>=2.1.0->mlflow==2.5.0->-r /tmp/tmpt7i28vwp/requirements.txt (line 1)) (4.0.10)\nRequirement already satisfied: zipp>=0.5 in /databricks/python3/lib/python3.10/site-packages (from importlib-metadata!=4.7.0,<7,>=3.7.0->mlflow==2.5.0->-r /tmp/tmpt7i28vwp/requirements.txt (line 1)) (3.8.0)\nRequirement already satisfied: parso<0.9.0,>=0.8.0 in /databricks/python3/lib/python3.10/site-packages (from jedi>=0.16->ipython==8.10.0->-r /tmp/tmpt7i28vwp/requirements.txt (line 8)) (0.8.3)\nRequirement already satisfied: python-dateutil>=2.7 in /databricks/python3/lib/python3.10/site-packages (from matplotlib<4->mlflow==2.5.0->-r /tmp/tmpt7i28vwp/requirements.txt (line 1)) (2.8.2)\nRequirement already satisfied: fonttools>=4.22.0 in /databricks/python3/lib/python3.10/site-packages (from matplotlib<4->mlflow==2.5.0->-r /tmp/tmpt7i28vwp/requirements.txt (line 1)) (4.25.0)\nRequirement already satisfied: pyparsing>=2.2.1 in /local_disk0/.ephemeral_nfs/cluster_libraries/python/lib/python3.10/site-packages (from matplotlib<4->mlflow==2.5.0->-r /tmp/tmpt7i28vwp/requirements.txt (line 1)) (2.4.7)\nRequirement already satisfied: cycler>=0.10 in /databricks/python3/lib/python3.10/site-packages (from matplotlib<4->mlflow==2.5.0->-r /tmp/tmpt7i28vwp/requirements.txt (line 1)) (0.11.0)\nRequirement already satisfied: kiwisolver>=1.0.1 in /databricks/python3/lib/python3.10/site-packages (from matplotlib<4->mlflow==2.5.0->-r /tmp/tmpt7i28vwp/requirements.txt (line 1)) (1.4.2)\nRequirement already satisfied: pillow>=6.2.0 in /databricks/python3/lib/python3.10/site-packages (from matplotlib<4->mlflow==2.5.0->-r /tmp/tmpt7i28vwp/requirements.txt (line 1)) (9.2.0)\nRequirement already satisfied: ptyprocess>=0.5 in /databricks/python3/lib/python3.10/site-packages (from pexpect>4.3->ipython==8.10.0->-r /tmp/tmpt7i28vwp/requirements.txt (line 8)) (0.7.0)\nRequirement already satisfied: wcwidth in /databricks/python3/lib/python3.10/site-packages (from prompt-toolkit<3.1.0,>=3.0.30->ipython==8.10.0->-r /tmp/tmpt7i28vwp/requirements.txt (line 8)) (0.2.5)\nRequirement already satisfied: idna<4,>=2.5 in /databricks/python3/lib/python3.10/site-packages (from requests<3,>=2.17.3->mlflow==2.5.0->-r /tmp/tmpt7i28vwp/requirements.txt (line 1)) (3.3)\nRequirement already satisfied: joblib>=1.0.0 in /databricks/python3/lib/python3.10/site-packages (from scikit-learn<2->mlflow==2.5.0->-r /tmp/tmpt7i28vwp/requirements.txt (line 1)) (1.2.0)\nRequirement already satisfied: threadpoolctl>=2.0.0 in /databricks/python3/lib/python3.10/site-packages (from scikit-learn<2->mlflow==2.5.0->-r /tmp/tmpt7i28vwp/requirements.txt (line 1)) (2.2.0)\nRequirement already satisfied: greenlet!=0.4.17 in /databricks/python3/lib/python3.10/site-packages (from sqlalchemy<3,>=1.4.0->mlflow==2.5.0->-r /tmp/tmpt7i28vwp/requirements.txt (line 1)) (1.1.1)\nRequirement already satisfied: executing>=1.2.0 in /databricks/python3/lib/python3.10/site-packages (from stack-data->ipython==8.10.0->-r /tmp/tmpt7i28vwp/requirements.txt (line 8)) (1.2.0)\nRequirement already satisfied: pure-eval in /databricks/python3/lib/python3.10/site-packages (from stack-data->ipython==8.10.0->-r /tmp/tmpt7i28vwp/requirements.txt (line 8)) (0.2.2)\nRequirement already satisfied: asttokens>=2.1.0 in /databricks/python3/lib/python3.10/site-packages (from stack-data->ipython==8.10.0->-r /tmp/tmpt7i28vwp/requirements.txt (line 8)) (2.2.1)\nRequirement already satisfied: smmap<6,>=3.0.1 in /databricks/python3/lib/python3.10/site-packages (from gitdb<5,>=4.0.1->gitpython<4,>=2.1.0->mlflow==2.5.0->-r /tmp/tmpt7i28vwp/requirements.txt (line 1)) (5.0.0)\nRequirement already satisfied: filelock in /databricks/python3/lib/python3.10/site-packages (from huggingface-hub>=0.4.0->sentence-transformers==2.2.2->nemoguardrails==0.5.0->-r /tmp/tmpt7i28vwp/requirements.txt (line 9)) (3.6.0)\nRequirement already satisfied: fsspec in /databricks/python3/lib/python3.10/site-packages (from huggingface-hub>=0.4.0->sentence-transformers==2.2.2->nemoguardrails==0.5.0->-r /tmp/tmpt7i28vwp/requirements.txt (line 9)) (2022.7.1)\nRequirement already satisfied: safetensors>=0.3.1 in /databricks/python3/lib/python3.10/site-packages (from transformers<5.0.0,>=4.6.0->sentence-transformers==2.2.2->nemoguardrails==0.5.0->-r /tmp/tmpt7i28vwp/requirements.txt (line 9)) (0.3.2)\nRequirement already satisfied: tokenizers!=0.11.3,<0.14,>=0.11.1 in /databricks/python3/lib/python3.10/site-packages (from transformers<5.0.0,>=4.6.0->sentence-transformers==2.2.2->nemoguardrails==0.5.0->-r /tmp/tmpt7i28vwp/requirements.txt (line 9)) (0.13.3)\nRequirement already satisfied: mypy-extensions>=0.3.0 in /databricks/python3/lib/python3.10/site-packages (from typing-inspect<1,>=0.4.0->dataclasses-json<0.6.0,>=0.5.7->langchain==0.0.251->-r /tmp/tmpt7i28vwp/requirements.txt (line 15)) (0.4.3)\nInstalling collected packages: simpleeval, pysqlite-binary, annoy, watchdog, uvicorn, typing-extensions, setuptools, requests, querystring-parser, PyMuPDFb, nest-asyncio, Jinja2, PyMuPDF, docker, alembic, mlflow, langsmith, fastapi, langchain, nemoguardrails\n  Attempting uninstall: uvicorn\n    Found existing installation: uvicorn 0.23.2\n    Not uninstalling uvicorn at /databricks/python3/lib/python3.10/site-packages, outside environment /local_disk0/.ephemeral_nfs/envs/pythonEnv-674b09a7-4e83-42e1-9098-f2a56c8b7efd\n    Can't uninstall 'uvicorn'. No files were found to uninstall.\n  Attempting uninstall: typing-extensions\n    Found existing installation: typing_extensions 4.7.1\n    Not uninstalling typing-extensions at /local_disk0/.ephemeral_nfs/cluster_libraries/python/lib/python3.10/site-packages, outside environment /local_disk0/.ephemeral_nfs/envs/pythonEnv-674b09a7-4e83-42e1-9098-f2a56c8b7efd\n    Can't uninstall 'typing_extensions'. No files were found to uninstall.\n  Attempting uninstall: setuptools\n    Found existing installation: setuptools 63.4.1\n    Not uninstalling setuptools at /databricks/python3/lib/python3.10/site-packages, outside environment /local_disk0/.ephemeral_nfs/envs/pythonEnv-674b09a7-4e83-42e1-9098-f2a56c8b7efd\n    Can't uninstall 'setuptools'. No files were found to uninstall.\n  Attempting uninstall: requests\n    Found existing installation: requests 2.28.1\n    Not uninstalling requests at /databricks/python3/lib/python3.10/site-packages, outside environment /local_disk0/.ephemeral_nfs/envs/pythonEnv-674b09a7-4e83-42e1-9098-f2a56c8b7efd\n    Can't uninstall 'requests'. No files were found to uninstall.\n  Attempting uninstall: nest-asyncio\n    Found existing installation: nest-asyncio 1.5.5\n    Not uninstalling nest-asyncio at /databricks/python3/lib/python3.10/site-packages, outside environment /local_disk0/.ephemeral_nfs/envs/pythonEnv-674b09a7-4e83-42e1-9098-f2a56c8b7efd\n    Can't uninstall 'nest-asyncio'. No files were found to uninstall.\n  Attempting uninstall: Jinja2\n    Found existing installation: Jinja2 2.11.3\n    Not uninstalling jinja2 at /databricks/python3/lib/python3.10/site-packages, outside environment /local_disk0/.ephemeral_nfs/envs/pythonEnv-674b09a7-4e83-42e1-9098-f2a56c8b7efd\n    Can't uninstall 'Jinja2'. No files were found to uninstall.\n  Attempting uninstall: PyMuPDF\n    Found existing installation: PyMuPDF 1.22.3\n    Not uninstalling pymupdf at /local_disk0/.ephemeral_nfs/cluster_libraries/python/lib/python3.10/site-packages, outside environment /local_disk0/.ephemeral_nfs/envs/pythonEnv-674b09a7-4e83-42e1-9098-f2a56c8b7efd\n    Can't uninstall 'PyMuPDF'. No files were found to uninstall.\n  Attempting uninstall: fastapi\n    Found existing installation: fastapi 0.98.0\n    Not uninstalling fastapi at /databricks/python3/lib/python3.10/site-packages, outside environment /local_disk0/.ephemeral_nfs/envs/pythonEnv-674b09a7-4e83-42e1-9098-f2a56c8b7efd\n    Can't uninstall 'fastapi'. No files were found to uninstall.\n  Attempting uninstall: langchain\n    Found existing installation: langchain 0.0.197\n    Not uninstalling langchain at /local_disk0/.ephemeral_nfs/cluster_libraries/python/lib/python3.10/site-packages, outside environment /local_disk0/.ephemeral_nfs/envs/pythonEnv-674b09a7-4e83-42e1-9098-f2a56c8b7efd\n    Can't uninstall 'langchain'. No files were found to uninstall.\nERROR: pip's dependency resolver does not currently take into account all the packages that are installed. This behaviour is the source of the following dependency conflicts.\nnotebook 6.4.12 requires prometheus-client, which is not installed.\ndatabricks-feature-store 0.14.1 requires pyspark<4,>=3.1.2, which is not installed.\ndatabricks-sdk 0.1.6 requires requests<2.29.0,>=2.28.1, but you have requests 2.31.0 which is incompatible.\nSuccessfully installed Jinja2-3.1.2 PyMuPDF-1.23.3 PyMuPDFb-1.23.3 alembic-1.12.0 annoy-1.17.3 docker-6.1.3 fastapi-0.96.0 langchain-0.0.251 langsmith-0.0.37 mlflow-2.5.0 nemoguardrails-0.5.0 nest-asyncio-1.5.6 pysqlite-binary-0.5.1.3380300 querystring-parser-1.2.4 requests-2.31.0 setuptools-65.5.1 simpleeval-0.9.13 typing-extensions-4.5.0 uvicorn-0.22.0 watchdog-3.0.0\n\u001B[43mNote: you may need to restart the kernel using dbutils.library.restartPython() to use updated packages.\u001B[0m\n"
     ]
    }
   ],
   "source": [
    "import mlflow\n",
    "requirements_path = mlflow.pyfunc.get_model_dependencies(config['model_uri'])\n",
    "%pip install -r $requirements_path"
   ]
  },
  {
   "cell_type": "code",
   "execution_count": 0,
   "metadata": {
    "application/vnd.databricks.v1+cell": {
     "cellMetadata": {
      "byteLimit": 2048000,
      "rowLimit": 10000
     },
     "inputWidgets": {},
     "nuid": "5293dda1-a122-4c94-8387-9f00e5e06a0a",
     "showTitle": false,
     "title": ""
    }
   },
   "outputs": [],
   "source": [
    "dbutils.library.restartPython()"
   ]
  },
  {
   "cell_type": "code",
   "execution_count": 0,
   "metadata": {
    "application/vnd.databricks.v1+cell": {
     "cellMetadata": {
      "byteLimit": 2048000,
      "rowLimit": 10000
     },
     "inputWidgets": {},
     "nuid": "997941bf-950e-49a8-8a32-3760809410aa",
     "showTitle": false,
     "title": ""
    }
   },
   "outputs": [],
   "source": [
    "%run \"./utils/config\""
   ]
  },
  {
   "cell_type": "code",
   "execution_count": 0,
   "metadata": {
    "application/vnd.databricks.v1+cell": {
     "cellMetadata": {
      "byteLimit": 2048000,
      "rowLimit": 10000
     },
     "inputWidgets": {},
     "nuid": "2eaf9d87-e0c9-4bcc-8959-9e47b3995dd6",
     "showTitle": false,
     "title": ""
    }
   },
   "outputs": [],
   "source": [
    "%run \"./utils/functions\""
   ]
  },
  {
   "cell_type": "code",
   "execution_count": 0,
   "metadata": {
    "application/vnd.databricks.v1+cell": {
     "cellMetadata": {
      "byteLimit": 2048000,
      "rowLimit": 10000
     },
     "inputWidgets": {},
     "nuid": "613eaf5e-cb8b-46e6-aef7-e10a627ad150",
     "showTitle": false,
     "title": ""
    }
   },
   "outputs": [],
   "source": [
    "import pandas as pd\n",
    "import mlflow\n",
    "from langchain.evaluation.qa import QAEvalChain\n",
    "from langchain.llms import OpenAI\n",
    "\n",
    "from langchain.evaluation.qa import QAGenerateChain\n",
    "from langchain.chat_models import ChatOpenAI"
   ]
  },
  {
   "cell_type": "code",
   "execution_count": 0,
   "metadata": {
    "application/vnd.databricks.v1+cell": {
     "cellMetadata": {
      "byteLimit": 2048000,
      "rowLimit": 10000
     },
     "inputWidgets": {},
     "nuid": "e3de4f99-35ef-4f46-a97f-28c32c665189",
     "showTitle": true,
     "title": "Read input"
    }
   },
   "outputs": [
    {
     "output_type": "execute_result",
     "data": {
      "text/plain": [
       "['\\u2029\\nGovernment Data Security Policies  |   �1\\nGOVERNMENT \\nDATA SECURITY \\nPOLICIES\\nThis document contains general information for the \\npublic only. It is not intended to be relied upon as a \\ncomprehensive or deﬁnitive guide on each agency’s \\npolicies and practices. The data security measures \\nimplemented by each agency will differ depending on \\nvarious factors such as the sensitivity of the data and \\nthe agency’s assessment of data security risks. The \\nGovernment may update the policies set out in this \\ndocument without publishing such updates to the \\npublic.    \\nThe Government takes its responsibility as a \\ncustodian of data very seriously.\\nSince 2001, the Government’s data security policies have been set out in the Government \\nInstruction Manual (IM) on Infocomm Technology and Smart Systems (ICT&SS) Management. In \\n2019, the Public Sector Data Security Review Committee recommended additional technical and \\nprocess measures to protect data and prevent data compromise. The recommended measures \\nhave since been incorporated into the IM on ICT&SS Management.\\nThis document sets out the key policies in the IM on ICT&SS Management that govern how data \\nsecurity is managed by agencies. The policies prescribe data security requirements, including \\ntechnical and process measures, to safeguard data against security threats.\\u2028\\nThe technical and process measures described in this document are implemented using a risk-\\nbased approach. Agencies should select the measures based on the data security risk level, after \\ntaking into account their operating contexts. For example, the recommended measure “Hashing-\\nwith-Salt” irreversibly changes a data ﬁeld in order to prevent an attacker from accessing the \\noriginal value of the data ﬁeld even when the data is extracted from the system. It would be \\nsuitable for use in analytics systems where only de-identiﬁed data is required but not appropriate \\nfor use in operational systems which require identiﬁable data for service delivery.\\n\\u2028\\nNote: This document contains general information for the public only. It is not intended to be relied \\nupon as a comprehensive or deﬁnitive guide on each agency’s policies and practices. The data \\nsecurity measures implemented by each agency will differ depending on various factors such as \\nthe sensitivity of the data and the agency’s assessment of data security risks. The Government \\nmay update the policies set out in this document without publishing such updates to the public.    \\nGovernment Data Security Policies  |   �2\\nSection 1: Data Security Risk Management\\n01\\nTo ensure adequate and eﬀective data security risk management, Agencies should \\nperform data security risk assessments for their datasets, as part of the Government ICT \\nRisk Management Methodology. \\u2028\\nThis will enable Agencies to identify data security risks, evaluate the risks, implement \\nmeasures to mitigate the risks, assess the eﬀectiveness of the implemented measures \\nand manage the risks within limits acceptable to the Agency.\\u2028\\n\\u2028\\n02\\nAgencies should use the Data Security Risk Assessment Methodology, which is part of \\nthe Government ICT Risk Management Methodology, to conduct data security risk \\nassessments for their datasets.\\u2028\\n\\u2028\\n03\\nAgencies should conduct a data security risk assessment:\\u2028\\na)\\nWhen acquiring a new dataset; \\u2028\\nb)\\nDeveloping a new ICT system that contains personal or entity data; or\\u2028\\nc)\\nWhen existing data which has not been risk assessed is ﬁrst used.\\u2028\\n\\u2028\\n04\\nAgencies should review the data security risk assessments:\\u2028\\na)\\nAccording to the frequency stated in the Government Risk Management Policy; or\\u2028\\nb)\\nWhen there are changes to the data security risk factors.\\u2028\\n\\u2028\\nGovernment Data Security Policies  |   �3\\nSection 2: Technical and process measures \\nto protect data and prevent data \\ncompromises\\u2028\\n05\\nAgencies should implement the appropriate technical and process measures to protect \\ndata against data security threats and prevent compromises of the conﬁdentiality and \\nintegrity of the data. \\u2028\\nAgencies should adopt a risk-based approach when implementing the technical and \\nprocess measures. Technical measures are only eﬀective when the complementary \\nprocess measures are implemented too (See Annex A).\\n\\u2028\\nThe data security technical and process measures are to be implemented on top of any \\ncybersecurity measures in place.\\n\\u2028\\nData should be protected according to the risk level determined through a data security \\nrisk assessment. Agencies should ensure that data is adequately protected while \\nminimising the impact to operations, resources and costs.\\u2028\\n\\u2028\\n06\\nAgencies should adopt the following strategies when implementing the technical \\nmeasures and process measures to safeguard data:\\u2028\\na)\\nReduce the surface area of attack by minimising data collection, data retention, \\ndata access and data downloads;\\u2028\\nb)\\nEnhance the logging and monitoring of data transactions to detect risky or \\nsuspicious activity; and\\u2028\\nc)\\nProtect data in a manner that will render the data unusable even if extracted. \\u2028\\n\\u2028\\nGovernment Data Security Policies  |   �4\\nSection 3: Reduce the surface area of attack \\nby minimising data collection, data retention, \\ndata access and data downloads\\u2028\\nSection 3.1: Collect, retain, and store data where necessary\\u2028\\nCollect datasets only where necessary \\nLimit retention period of data \\n07\\nAgencies should minimise the surface area of attack, i.e. the diﬀerent points through \\nwhich a threat actor can compromise data security, by using the following 3 approaches:\\u2028\\na)\\nCollect, retain, and store data only where necessary;\\u2028\\nb)\\nMinimise the download of data to endpoint devices; and\\u2028\\nc)\\nAccess and use data only for the task at hand.\\u2028\\n\\u2028\\n08\\nAgencies should minimise the collection of datasets to only what is necessary for their \\nfunctions and operations. For each collected dataset, Agencies should identify the \\nspeciﬁc use of the dataset, and whether the dataset is required to carry out an immediate \\nfunction or a pre-requisite to carry out a future function (e.g. longitudinal datasets for \\nanalytics purposes) or both. Where the dataset includes data on individuals, Agencies \\nshould also collect the data in accordance with the Government’s personal data \\nprotection policies.\\u2028\\n\\u2028\\n09\\nAgencies should ensure that every dataset collected is stored only for the period that is \\nnecessary to fulﬁl the purposes for which the dataset is collected, subject to any legal or \\nAgencies’ archival requirements. Where the dataset includes data on individuals, \\nAgencies should also retain the data in accordance with the Government’s personal data \\nprotection policies.\\u2028\\n\\u2028\\n10\\nAgencies should set a retention period for each dataset.\\nGovernment Data Security Policies  |   �5\\nSection 3.2: Minimise the download of data to endpoint devices\\u2028\\nSecured isolated environments for high-risk users \\nRetrieve only the data required instead of data dumps \\n11\\nAgencies should consider instituting processes to ensure that data is purged from ICT \\nsystems and user devices when the retention period for the data is over. Data retained to \\nfulﬁl archival requirements should be transferred to archival systems. \\u2028\\n\\u2028\\n12\\nTo minimise the risk of data exﬁltration, Agencies should ensure that users, assessed by \\nAgencies to be high-risk, access sensitive data only in secured isolated environments. \\nSuch isolated environments can be secured physically (\"Physically Secured Isolated \\nEnvironment\") or virtually (\"Virtually Secured Isolated Environment\").\\u2028\\n\\u2028\\n13\\nAgencies should ensure that the high-risk user’s access to the data in a physically \\nsecured isolated environment (i.e. an ICT system that contains sensitive data and is not \\nconnected to any other systems) is monitored at all times and technical measures should \\nbe implemented in the ICT system to stop any unauthorised transfer of sensitive data out \\nof the environment.\\u2028\\n\\u2028\\n14\\nAgencies should ensure that the high-risk user’s access to the data in a virtually secured \\nisolated environment (i.e. an environment equipped with ICT infrastructure that stops the \\nexﬁltration of data from the ICT system containing the sensitive data) is monitored at all \\ntimes. \\u2028\\n\\u2028\\n15\\nAgencies should ensure that users request and retrieve only the data required to \\ncomplete their assigned tasks and that users do not retrieve more data than needed.\\u2028\\n\\u2028\\n16\\nAgencies should implement processes to ensure that when data is stored in documents or \\nﬁles, a user is given access to only the data ﬁelds and data records relevant to the user’s \\nneeds.\\u2028\\n\\u2028\\n17\\nAgencies should implement processes to ensure that data stored within databases is \\naccessed by users through data queries as far as practicable. \\u2028\\n\\u2028\\nGovernment Data Security Policies  |   �6\\nAccess sensitive files on secured platforms \\nSection 3.3: Access and use data for task at hand\\u2028\\n18\\nTo minimise the risk of sensitive data being compromised on user devices, Agencies \\nshould ensure that sensitive data can only be accessed through Agencies’ or central \\nWhole-of-Government secured platforms, where practicable. \\u2028\\n\\u2028\\nThe secured platforms are to have the following features:\\u2028\\na)\\nThe necessary ICT and data security measures to protect the data;\\u2028\\nb)\\nAccess control to the platform; and\\u2028\\nc)\\nLogging of access.\\u2028\\n\\u2028\\n19\\nWhere practical, Agencies should utilise the secured central document collaboration \\nplatforms for accessing, sharing and editing of documents containing data.\\u2028\\n\\u2028\\n20\\nWhere practical, Agencies should utilise the secured data platforms of the Government \\nData Architecture to access, share and analyse data.\\u2028\\n\\u2028\\n21\\nAgencies should implement processes and controls to ensure that:\\u2028\\na)\\nThe rights to access data are granted on a need-to-know basis;\\u2028\\nb)\\nThe rights to access data are regularly reviewed;\\u2028\\nc)\\nUsers are able to access only data that they have been granted access rights to; \\nand\\u2028\\nd)\\nThe task at hand falls within the purposes for which the use of data is permitted, \\nbefore using the data.\\u2028\\n\\u2028\\nGovernment Data Security Policies  |   �7\\nVolume limited and time limited data access \\nAutomatic Identity and Access Management tools \\nLimit and monitor authorised and privileged access to sensitive data in ICT systems \\n22\\nAgencies should limit the volume of sensitive data in ICT systems that can be accessed \\nby users, and the duration for which users can access the sensitive data. This prevents \\nusers from accessing too much sensitive data within the pre-determined period of time.\\u2028\\n23\\nAgencies should set predeﬁned limits for:\\u2028\\na)\\nThe volume of sensitive data to be accessed; and \\nb)\\nThe duration of access to sensitive data.\\nAgencies should restrict data access when the volume or the duration of data accessed \\nexceeds predeﬁned limits. This should be done through:\\na)\\nUse of access control features of ICT systems, together with logging and \\nmonitoring of data access controls; or\\nb)\\nRequiring user re-authorisation when the duration or volume of data accessed \\nexceeds the predeﬁned limits.\\n\\u2028\\n24\\nAgencies should implement Automatic Identity and Access Management tools to \\nautomate the management of users’ identity and access rights. This is to ensure that only \\nauthorised people are granted access to the data at any point in time. \\u2028\\n25\\nAgencies should put in place processes to ensure that access to sensitive data in ICT \\nsystems is granted only to authorised users, and privileged access to data is granted \\nonly where necessary. Users\\' access to sensitive data should be regularly reviewed and \\nremoved expeditiously when the user\\'s role changes. This is to reduce the risk of \\nunauthorised access to sensitive data.\\u2028\\n\\u2028\\n26\\nAgencies should ensure an authorised user’s access to sensitive data is limited to the \\nsensitive data needed for a stated purpose of use. \\u2028\\n\\u2028\\n27\\nAgencies should ensure that access to data by users with privileged accounts or users \\nwho hold privileged data roles, are limited to the ICT systems, data platforms, and \\ndatasets needed to carry out the users’ functions. \\nGovernment Data Security Policies  |   �8\\nSection 4: Log and monitor data \\ntransactions to detect risky or suspicious \\nactivity\\nSection 4.1: Maintain logs and records to pinpoint high-risk activities and to \\nassist in response and remediation\\nMaintain data lineage for data to support data incident management \\n28\\nAgencies should log and monitor data transactions to detect suspicious or risky activities \\nand take action to prevent any potential data compromise.\\u2028\\n\\u2028\\nAgencies should do this by:\\na)\\nMaintaining logs and records to pinpoint risky activities, detect suspicious \\nactivities, and to assist in response and remediation; and\\nb)\\nDeploying tools to detect suspicious activity and alert the relevant parties to \\nrespond to such activities. \\u2028\\n\\u2028\\n29\\nAgencies should keep data lineage records for data. Data lineage records help to identify \\nany unauthorised access, usage or modiﬁcation of data. Data lineage records support \\nAgencies in managing and responding to data incidents. \\nThe data lineage records should be tracked at the dataset’s meta data level but need not \\nbe tracked for every change made to the dataset. The data lineage records should cover \\nhow the data is used, how it ﬂows between users and systems, and the key changes \\nmade to the dataset.\\u2028\\n\\u2028\\nGovernment Data Security Policies  |   �9\\nDigital watermarking of file \\nSection 4.2: Deploy tools to detect suspicious activity and alert the relevant \\nparties for incident response \\nEnhanced logging and active monitoring of data access \\n30\\nAgencies should implement digital watermarking on ﬁles containing data to identify the \\noriginator of the ﬁles, unless the ﬁles: \\na)\\nAre system generated; or\\nb)\\nCannot be digital watermarked by readily available tools.\\u2028\\n\\u2028\\n31\\nAgencies should ensure that the digital watermark:\\na)\\nContains information that identiﬁes the originator of the ﬁle; and\\nb)\\nAllows the recipient of ﬁle to readily identify the originator of the ﬁle by displaying \\nthe identifying information or revealing the information when the ﬁle is examined \\nwith the appropriate digital tool.\\n32\\nAgencies should log, actively monitor and analyse data access to detect anomalous \\nactivities and to support remediation when data incidents occur.\\n33\\nAgencies should maintain logs of access to data. The logs should show what data has \\nbeen accessed, how it has been accessed and who accessed it. In addition, the logs \\nshould be protected from accidental or deliberate modiﬁcation or erasure. \\u2028\\n34\\nAgencies should ensure active monitoring of data access to sensitive data by scanning \\nfor signs of data security compromise and actively checking ICT systems and data \\nplatforms for compliance with the data security rules.\\nGovernment Data Security Policies  |   �10\\nEmail data protection tools \\n \\nData loss protection (DLP) tools \\nGovernment Data Security Policies  |   �11\\n35\\nAgencies should implement email data protection tools that detect potentially risky data \\ntransfers and prompt users for conﬁrmation of such data transfers to prevent any \\naccidental or unauthorised disclosure through email. This clause is not applicable for \\nsystem generated emails.\\n36\\nAgencies should implement DLP tools in their endpoint devices, IT networks and other \\nICT systems containing sensitive data. The DLP tools should monitor the endpoint \\ndevices, networks and ICT systems for possible data loss, alert the user to potentially \\nrisky user action which might result in data compromise, and detect and prevent any \\nunauthorised data transfers.\\n\\u2028\\n37\\nAgencies should implement DLP tools to cover all possible avenues of data loss from \\ntheir ICT systems. This includes endpoint devices and network systems.\\u2028\\n\\u2028\\nAgencies are to implement DLP tools that have the following features:\\na)\\nAble to read the security and sensitivity classiﬁcation of a document as \\ndetermined by the user;\\nb)\\nAble to alert the user or require user aﬃrmation on authorised but potential risky \\nuser action involving data, as determined by the DLP rules;\\nc)\\nAble to stop the user from executing an action which will result in a violation of \\nthe DLP rules; and\\nd)\\nAble to monitor for violations of the DLP rules.\\n\\u2028\\nSection 5: Protect the data directly when it is \\nstored and distributed to render the data \\nunusable even if extracted\\nSection 5.1: Render sensitive data unusable to an attacker, even if exﬁltrated \\nfrom storage\\n38\\nAgencies should protect the data directly to render the data unusable to an attacker if \\nextracted from ICT systems. This provides an additional layer of defence on top of the \\nother cyber security and data security measures.\\n\\u2028\\nThe 3 approaches that Agencies may take to protect data in this manner are:\\u2028\\na)\\nRender sensitive data unusable to an attacker, even if exﬁltrated from storage;\\nb)\\nPartially hide the full data. Even if the sensitive data is exﬁltrated, the damage \\nwould be limited as the attacker would not have access to the full data; and\\nc)\\nProtect the data during distribution. This reduces the risk of accidental data \\ncompromises due to human error when sending emails with sensitive data.\\u2028\\n\\u2028\\n39\\nAgencies may choose one of the following technical measures to protect sensitive data \\nand render the data unusable to an attacker even if exﬁltrated from storage:\\u2028\\na)\\nHashing with salt;\\nb)\\nField Level Encryption; or\\nc)\\nTokenisation.\\u2028\\nGovernment Data Security Policies  |   �12\\nHashing with Salt \\nField Level Encryption \\nTokenisation \\n44\\nAgencies should ensure that sensitive values to be protected are replaced with token \\nvalues and that the original values cannot be reasonably recovered from the token \\nvalues.  The mapping between the original values and token values should be kept \\nsecurely and separated from the tokenised data set.\\nGovernment Data Security Policies  |   �13\\n40\\nAgencies should ensure that sensitive values to be protected are combined with a secret \\nvalue, called the salt, before applying a cryptographic hashing function to generate a \\nhashed value that cannot be reversed with current computing resources.\\u2028\\n\\u2028\\n41\\nAgencies should consider using “hashing with salt” where the actual values need not be \\nrecovered but can be transformed into a unique reference.  \\u2028\\n\\u2028\\nFor example, hashing with salt is suitable to protect identiﬁers in data in data analytics \\nuse cases where there is no need to identify the entities. \\n42\\nAgencies should ensure that sensitive values to be protected are encrypted at the ﬁeld \\nlevel. \\u2028\\n\\u2028\\nWithin a dataset, only authorised users should be allowed to access and decrypt the \\nvalues protected by Field Level Encryption. Other users of the dataset that are not \\nauthorised to access the protected values, should not be allowed to access and decrypt \\nthe protected values.\\n43\\nAgencies should consider using Field Level Encryption when the actual values of the \\nsensitive data are frequently required. The encrypted value can be decrypted using the \\ncorrect decryption key by an authorised user.\\u2028\\n\\u2028\\nFor example, ﬁeld level encryption is suitable for service delivery systems where there is \\na need to correctly identify an individual in order to deliver a service.\\nManage keys to data protection technical safeguards \\nSection 5.2: Partially hide the full data\\nObfuscation/ masking/ removal of entity attributes \\n48\\nAgencies should hide sensitive data ﬁelds by implementing the following technical \\nmeasure(s) as appropriate:\\na)\\nObfuscation/ masking/ removal of entity attributes; or\\nb)\\nDataset partitioning.\\n49\\nAgencies should ensure users who do not need to access the exact data values of \\nsensitive data are presented with partially hidden data values that are less sensitive but \\nsuﬃcient for usage and exploitation to complete their assigned tasks.\\n50\\nAgencies should consider hiding the true value of the attributes by adding noise, banding \\nthe data, or masking portions of the value. Attributes not relevant for data usage should \\nbe removed.\\nGovernment Data Security Policies  |   �14\\n45\\nAgencies should put in place processes to manage keys used in the technical measures \\nto protect data directly. These processes should ensure that the key is well-managed and \\nsafeguarded throughout its lifecycle: generation, exchange, storage, usage, replacement, \\nand destruction of keys.\\n46\\nIn relation to clause 45, the keys that may be managed by Agencies include:  \\u2028\\na)\\nSalt value of hashing with salt;\\u2028\\nb)\\nEncryption and decryption keys of Field Level Encryption; and\\u2028\\nc)\\nMapping of token value of tokenisation.\\n47\\nAgencies should ensure proper separation of roles of the persons using the protected \\ndata and the persons managing the keys. \\nDataset partitioning \\nSection 5.3: Protect the data during distribution\\nPassword protecting and encrypting files when distributing files through unsecured \\nchannels \\nSecurely distribute passwords out-of-band \\n51\\nAgencies should reduce data concentration risk by partitioning sensitive data into smaller \\ndatasets. This can be done by segmenting out selected entities, individuals or attributes \\nand applying diﬀerent access controls to each of the partitions. This reduces the \\nlikelihood of compromise of the selected entities, individuals or attributes should the \\nlarger dataset be compromised.\\n52\\nAgencies should consider partitioning the dataset by either:\\na)\\nPhysically partitioning the dataset in diﬀerent storage locations; or\\u2028\\nb)\\nVirtually partitioning the datasets in diﬀerent virtually isolated partitions. \\nEach dataset partition, physical or virtual, should have diﬀerent access controls. \\n53\\nAgencies should ensure that ﬁles containing sensitive data are secured with password \\nand encryption when the ﬁle is distributed through unsecured channels and where there \\nis possible unauthorised access to the ﬁle. Password protecting and encrypting the ﬁles \\nensure that only authorised users are permitted to access the content of the ﬁle.\\n54\\nAgencies should ensure that encrypted data ﬁles and their passwords are securely \\ndistributed out-of-band through separate channels. This is to prevent compromise of \\nboth the protected data ﬁles and passwords during transit due to malicious interception \\nor accidental disclosure. Password hints may be sent in the same channel.\\nGovernment Data Security Policies  |   �15\\nData file integrity verification \\nDistribute files through approved secure channels \\nProtect sensitive data when distributing via email \\n \\n55\\nAgencies should adopt data ﬁle integrity veriﬁcation measures to ensure the integrity of a \\nﬁle containing sensitive data, when the ﬁle is being transferred between users. \\n56\\nAgencies should verify the ﬁle integrity using cryptographic hash standards. \\n59\\nAgencies should ensure that sensitive data is protected from unintended disclosure when \\nsending via email. \\n60\\nAgencies should: \\na)\\nEnsure that emails containing sensitive data are addressed to the correct \\nrecipients;\\nb)\\nUse a mailing list for regular mass communication to speciﬁc groups; and\\nc)\\nSend emails via Blind Carbon Copy (BCC) when mass emailing parties outside of \\nthe Whole-of-Government. \\n61\\nAgencies should ensure users:\\na)\\nPassword-protect and encrypt ﬁles containing sensitive data; and\\nb)\\nPerform data ﬁle integrity veriﬁcation for ﬁles where integrity is critical.\\nGovernment Data Security Policies  |   �16\\n57\\nAgencies should distribute ﬁles containing data via proper channels that are safeguarded \\nby required security measures commensurate with the security classiﬁcation of the data.\\n58\\nAgencies should ensure that the distribution channels are encrypted.  \\n\\u2029\\nGovernment Data Security Policies (Annex A)   |   A�1\\nANNEX A\\nTechnical measures and the process measures \\nTechnical Measures\\nClause Number\\nVolume limited and time limited data access\\n22\\nAutomatic Identity and Access Management tools\\n24\\nLog and monitor data transactions to detect high-risk or suspicious activity\\n28\\nDigital watermarking of ﬁle\\n30\\nEmail data protection tools\\n35\\nData Loss Protection (DLP) tools\\n36\\nHashing with Salt\\n40\\nField Level Encryption\\n42\\nTokenisation\\n44\\nObfuscation/ masking/ removal of entity attributes\\n49\\nDataset partitioning\\n51\\nPassword protecting and encrypting ﬁles when distributing ﬁles through unsecured \\nchannels\\n53\\nData ﬁle integrity veriﬁcation\\n55\\nProcess Measures\\nClause number\\nCollect datasets only where necessary\\n8\\nLimit retention period of data\\n9\\nSecured isolated environments for high-risk users\\n12\\nRetrieve only the data required instead of data dumps\\n15\\nAccess sensitive ﬁles on secured platforms\\n18\\nLimit and monitor authorised and privileged access to sensitive data in ICT systems\\n25\\nMaintain data lineage for data to support data incident management\\n29\\nManage keys to data protection technical safeguards\\n45\\nSecurely distribute passwords out-of-band\\n54\\nDistribute ﬁles through approved secure channels\\n57\\nProtect sensitive data when distributing via email\\n59\\nGovernment Data Security Policies (Annex A)   |   A�2\\nTechnical measures and the complementary process measures \\nTechnical Measures\\nComplementary Process Measures\\nVolume limited and time limited data access\\nLimit retention period of data\\nAutomatic Identity and Access Management tools\\nLimit and monitor authorised and privileged access \\nto sensitive data in ICT systems\\nLog and monitor data transactions to detect high-\\nrisk or suspicious activity\\nDigital watermarking of ﬁle\\n-\\nEmail data protection tools\\nProtect sensitive data when distributing via email\\nData Loss Protection tools\\nDistribute ﬁles through approved secure channels\\nHashing with Salt\\nManage keys to data protection technical \\nsafeguards\\nField Level Encryption\\nTokenisation\\nObfuscation/ masking/ removal of entity attributes\\n-\\nDataset partitioning\\n-\\nPassword protecting and encrypting ﬁles when \\ndistributing ﬁles through unsecured channels\\nSecurely distribute passwords out-of-band\\nData ﬁle integrity veriﬁcation\\n-\\nGovernment Data Security Policies (Annex A)   |   A�3\\nGlossary of Terms \\nTerms\\nDeﬁnition\\nAgency\\nAgency refers to Organs of State, Ministries, Departments and Statutory \\nBoards. \\nCollection\\nCollection refers to the act of gathering, acquiring, or obtaining data from \\nany source, and whether directly or indirectly by any means.\\nBusiness data\\nBusiness data refers to data, whether true or not, which are related to an \\nidentiﬁed or identiﬁable company or other incorporated or unincorporated \\nbody of persons\\nData\\nData refers to the representation of information that can be used for \\ncommunications or processing.\\xa0Broad categories of data are structured and \\nunstructured data.\\nDataset \\nA dataset refers to a collection of data which can exist in digital documents \\n(such as Excel ﬁles), be stored in ICT systems (such as in databases) or \\nrecorded in hardcopy.\\nData query\\nA data query is a request for speciﬁc data ﬁelds and data records.\\nData Security Risk \\nAssessment \\nMethodology \\nThe Data Security Risk Assessment Methodology guides agencies in the \\nidentiﬁcation, analysis and treatment of data security risks inherent in \\ndatasets.  \\nAs part of the methodology, agencies perform risk assessments to identify \\ndata security risks, evaluate the risks, determine the controls to mitigate the \\nrisks, assess the eﬀectiveness of the controls implemented and manage the \\nrisks within acceptable limits to the agency. \\nDisclosure\\nDisclosure refers to making data available to others.\\nDocument\\nDocument refers to information recorded in any form. \\nGovernment Data Security Policies (Annex A)   |   A�4\\nEndpoint devices\\nEndpoint Devices refer to end-user devices designed for individual use (can \\nbe used by one or more users), such as personal computers, mobile devices, \\nIP phones used to store, process or access Government data.\\nEntity\\nEntity refers to a company or other incorporated or unincorporated \\nbody of persons.\\nEntity data\\nEntity data refers to any data, whether true or not, which are related \\nto an identiﬁed or identiﬁable entity.\\nGovernment ICT \\nRisk \\nManagement \\nMethodology\\nThe Government ICT Risk Management Methodology guides \\nagencies in the identiﬁcation, analysis and treatment of cybersecurity \\nand data security risks inherent in systems. \\nUnder the methodology framework, agencies perform risk \\nassessments to identify the ICT risks, such as ICT security and data \\nrisks to their systems, assess the consequent risks to the Agency, \\ndetermine the controls to mitigate the risks, and assess the \\neﬀectiveness of the controls implemented.\\nGovernment Risk \\nManagement \\nPolicy\\nThe Government Risk Management Policy deﬁnes: \\n1)\\nThe Government ICT Risk Management methodology;\\n2)\\nThe standards for managing ICT risks, such as frequencies of \\naudits; and\\n3)\\nThe thresholds for Agencies risk exposures. \\nICT system\\nICT System refers to a set of interacting, interrelated, or \\ninterdependent ICT hardware, software and data created, accessed, \\nstored, processed or transmitted to serve business functions and \\nsupport business operations.\\nIndividual \\nIndividual refers to a natural person, whether living or deceased.\\nPersonal data\\nPersonal data refers to any data, whether true or not, which are \\nrelated to an identiﬁed or identiﬁable person.\\nPrivileged access\\nPrivileged access refers to access granted to any user with \\nprivileged accounts or holding privileged data roles.\\nGovernment Data Security Policies (Annex A)   |   A�5\\nPrivileged \\naccounts\\nPrivileged accounts refers to accounts used by personnel for \\nperforming network, system, application-wide, agency-wide, or \\nWhole-of-Government-wide administrative/security activities such as \\nthe following:\\u2028\\n\\u2028\\n• Creating, modifying, or deleting accounts and their privileges;\\u2028\\n• Creating, modifying, or deleting security tokens;\\u2028\\n• Setting, modifying, and removing conﬁgurations;\\u2028\\n• Installing or uninstalling software; or\\u2028\\n• Accessing, creating, modifying, or deleting system-restricted data.\\u2028\\n\\u2028\\nExamples of personnel that uses privileged accounts are system \\nadministrators, database administrators, and personnel who \\nadministrates for the entire application. These personnel use \\nprivileged accounts to perform activities such as account \\nmanagement, cryptographic key management, database \\nadministration, network administration, and system administration.\\nPrivileged data \\nrole\\nPrivileged data roles refer to user roles that are able to access, \\ncreate, modify, or delete data where the data access has not been \\npersonally and explicitly granted but gained by the virtue of the roles’ \\njob functions that require access to the data platforms and systems \\nthat contain the data.\\u2028\\n\\u2028\\nExamples of privileged data roles are data scientists and data \\nengineers who have access to data on data platforms and systems \\nfor the purpose of data processing etc. System administrators and \\ndatabase administrators who have access to privileged accounts will \\nalso be considered as having privileged data roles.\\nSecurity classiﬁcation\\nSecurity Classiﬁcation refers to classifying information according to the \\nsecurity levels that measure the damage done to national security, or national \\nor Agency interest, in the event of an unauthorised disclosure.\\nSensitive \\nSensitive refers to data if leaked could give rise to discrimination or other \\nnegative impact on a data subject (e.g. the person’s insurability, \\nemployability, reputation, etc.).\\nSensitivity classiﬁcation\\nSensitivity Classiﬁcation refers to classifying information according to \\nsensitivity levels that measure the damage done to an individual or an \\norganisation, in the event of an unauthorised disclosure.\\nUse\\nUse refers to the treatment and handling of data within an agency.\\nUser\\nUsers refers to all Government oﬃcers and non-Government personnel who \\nare granted access to Government Resources to perform oﬃcial work for the \\nGovernment.\\nGovernment Data Security Policies (Annex A)   |   A�6\\n',\n",
       " ' \\n \\nJul 2021 \\nThe publication of this document is simply for the \\ninformation of the public. The policies operate subject to \\nthe requirements of law, contract, and other Government \\npolicies and rules governing data in general. The \\nGovernment may, in its sole discretion, update the \\npolicies set out in this document without publishing such \\nupdates. The Government will not be liable for any loss \\nor damage that may be incurred on account of relying on \\nany information contained in this document.\\nGovernment \\nPersonal  \\nData  \\nProtection \\nPolicies\\n \\nForeword \\n3\\nGlossary of Terms \\n5\\nGeneral rules with Respect to Protection of Personal Data \\n10\\nCollection, Use and Disclosure of Personal Data\\n11\\nConsent\\n11\\nDeemed Consent\\n13\\nWithdrawal of Consent\\n15\\nPurpose\\n16\\nNotiﬁcation of Purpose \\n17\\nAccess to and Correction of Personal Data\\n19\\nAccess to Personal Data\\n19\\nCorrection of Personal Data\\n22\\nPreservation of Copies of Personal Data\\n24\\nCare of Personal Data\\n25\\nRetention of Personal Data\\n25\\nResponsibilities of Public Oﬃcers \\n26\\nAnnexes\\n27\\nAnnex A - Collection, Use and Disclosure of  \\nPersonal Data without Consent\\n28\\nAnnex B – Additional Bases for Collection, Use  \\nand Disclosure of Personal Data Without Consent\\n37\\nAnnex C – Exceptions from  \\nAccess Requirement\\n40\\nAnnex D – Exceptions from  \\nCorrection Requirement \\n42\\nChange Log\\n43\\n Government Personal Data Protection Policies   |   2\\n \\nData management in the public sector is governed by the Public Sector (Governance) Act \\n(“PSGA”) and the Government Instruction Manual on Infocomm Technology & Smart \\nSystems Management (\"IM on ICT&SS Management\"). The Personal Data Protection Act \\n(“PDPA”) applies to the private sector.  \\n \\nThe need for two different legal frameworks governing data management in the public and \\nprivate sectors arises because the public has different expectations of the services \\nprovided by the Government and the private sector. The public expects the Government to \\ndeliver services in an integrated manner across agencies. In contrast, each private sector \\norganisation is expected to be individually accountable for the personal data in its \\npossession, and there is no expectation of a similarly integrated delivery of services \\nacross different private sector organisations. \\nThe Government takes its \\nresponsibility as a custodian  \\nof data very seriously.\\n Government Personal Data Protection Policies   |   3\\nSince 2001, the Government\\'s data security policies have been set out in the IM on ICT&SS \\nManagement. The IM on ICT&SS Management sets out how the Government manages and \\nprotects data (including personal data) in its possession or control. In 2018, the PSGA was \\nenacted to further strengthen public sector data governance. The PSGA imposes criminal \\npenalties on public oﬃcers who (a) knowingly or recklessly disclose data without \\nauthorisation; (b) misuse data that results in personal gain for the public oﬃcer or another \\nperson, or harm or loss to another person; and (c) knowingly or recklessly re-identify \\nanonymised information without authorisation. \\nThis document sets out the key policies in the IM on ICT&SS Management that govern how \\npersonal data is managed and protected by agencies. \\nThese policies apply to all personal data (in electronic (structured and unstructured) and \\nnon-electronic forms) possessed, controlled, or processed by an agency, except: \\n(a)\\nPersonal data of a deceased individual (However, provisions relating to the disclosure \\nof personal data and protection of personal data shall apply in respect of the \\npersonal data of an individual who has been dead for 10 or less years.); and \\n(b)\\nBusiness contact information. \\n Government Personal Data Protection Policies   |   4\\n \\nGlossary of Terms\\n01\\nBeneﬁt plan\\nAn insurance policy, a pension plan, an annuity, a \\nprovident fund plan or other similar plan \\n \\n02\\nBusiness\\nIncludes the activity of any organisation, whether \\nor not carried out for the purposes of gain, or \\nconducted on a regular, repetitive or continuous \\nbasis, but does not include an individual acting in \\nhis personal or domestic capacity \\n \\n03\\nBusiness contact \\ninformation\\nAn individual’s name, position name or title, \\nbusiness telephone number, business address, \\nbusiness electronic mail address or business fax \\nnumber and any other similar information about \\nthe individual, not provided by the individual solely \\nfor his personal purposes \\n \\n04\\nDomestic\\nRelated to home or family \\n \\n05\\nEducation institution\\nAny organisation that provides education, \\nincluding instruction, training or teaching, whether \\nby itself or in association or collaboration with or \\nby aﬃliation with any other person \\n \\n Government Personal Data Protection Policies   |   5\\n06\\nEvaluative purpose\\nEvaluative purpose means:  \\n(a) for the purpose of determining the suitability, \\neligibility or qualiﬁcations of the individual to \\nwhom the data relates\\xa0 \\n(i) for employment or for appointment to \\noﬃce; \\n(ii) for promotion in employment or oﬃce or \\nfor continuance in employment or oﬃce; \\n(iii) for removal from employment or oﬃce; \\n(iv) for admission to an education institution; \\n(v) for the awarding of contracts, awards, \\nbursaries, scholarships, honours or other \\nsimilar beneﬁts; \\n(vi) for selection for an athletic or artistic \\npurpose; or \\n(vii)for grant of ﬁnancial or social assistance, \\nor the delivery of appropriate health \\nservices, under any scheme administered \\nby an agency;  \\n(b) for the purpose of determining whether any \\ncontract, award, bursary, scholarship, honour \\nor other similar beneﬁt should be continued, \\nmodiﬁed or cancelled; \\n(c) for the purpose of deciding whether to insure \\nany individual or property or to continue or \\nrenew the insurance of any individual or \\nproperty; or \\n(d) for such other similar purposes for which a \\ndata-sharing direction is issued under Section \\n4 of the Public Sector (Governance) Act 2018.\\n Government Personal Data Protection Policies   |   6\\n07\\nIndividual\\nA natural person, whether living or deceased\\n08\\nInvestigation\\nAn investigation relating to: \\n(a) a breach of an agreement;  \\n(b) a contravention of any written law, or any rule \\nof professional conduct or other requirement \\nimposed by any regulatory authority in exercise \\nof its powers under any written law; or \\n(c) a circumstance or conduct that may result in a \\nremedy or relief being available under any law. \\n \\n09\\nNational interest\\nIncludes national defence, national security, public \\nsecurity, the maintenance of essential services \\nand the conduct of international affairs \\n \\n10\\nNon-Government entity\\nRefers to a person other than an agency  \\n \\n11\\nOrganisation\\nAny individual, company, association or body of \\npersons, corporate or unincorporated, whether or \\nnot\\xa0— \\n(a) formed or recognised under the law of \\nSingapore; or \\n(b) resident, or having an oﬃce or a place of \\nbusiness, in Singapore. \\n \\n Government Personal Data Protection Policies   |   7\\n12\\nPersonal data\\nData, whether true or not, about an individual who \\ncan be identiﬁed – \\n(a) from that data, or \\n(b) from that data and other information to which \\nthe agency has or is likely to have access. \\n \\n13\\nPrivate trust\\nA trust for the beneﬁt of one or more designated \\nindividuals who are friends, or members of the \\nfamily, of the settlor \\n \\n14\\nProceedings\\nAny civil, criminal or administrative proceedings by \\nor before a court, tribunal or regulatory authority \\nthat is related to the allegation of\\xa0— \\n(a) a breach of an agreement;  \\n(b) a contravention of any written law or any rule \\nof professional conduct or other requirement \\nimposed by any regulatory authority in exercise \\nof its powers under any written law; or \\n(c) a wrong or a breach of a duty for which a \\nremedy is claimed under any law. \\n \\n Government Personal Data Protection Policies   |   8\\n15\\nProcessing\\nRefers to the carrying out of any operation or set \\nof operations in relation to the personal data, and \\nincludes any of the following: \\n(a) collection; \\n(b) compilation; \\n(c) recording; \\n(d) holding; \\n(e) organisation, adaptation or alteration; \\n(f) storage; \\n(g) retrieval; \\n(h) combination; \\n(i) transmission; or \\n(j) erasure or destruction. \\n \\n16\\nPublicly available\\nIn relation to personal data about an individual, \\nmeans personal data that is generally available to \\nthe public, and includes personal data which can \\nbe observed by reasonably expected means at a \\nlocation or an event\\xa0— \\n(a) at which the individual appears; and \\n(b) that is open to the public. \\n \\n Government Personal Data Protection Policies   |   9\\n \\nGeneral rules with Respect to \\nProtection of Personal Data\\n01\\nAn agency shall ensure that up-to-date policies and processes that \\nadhere to all the provisions in this policy are implemented within the \\nagency and when transferring data to any other organisation. \\n02\\nAn agency shall implement processes to receive and address, within a \\nreasonable time, enquiries or feedback about the agency’s policies and \\nprocesses relating to the processing of personal data. \\n03\\nAn agency shall make available information about its policies and \\nprocesses with respect to the processing of personal data through a \\nprivacy statement to be displayed on its digital services.  \\n04\\nAn agency shall allow an individual to seek clariﬁcation on the agency’s \\npolicies and processes relating to the processing of personal data \\nthrough the agency’s Quality Service Manager (or equivalent). \\n Government Personal Data Protection Policies   |   10\\n \\n \\n \\nCollection, Use and  \\nDisclosure of Personal Data\\nConsent\\n05\\nBefore an agency collects, uses or discloses personal data, the agency \\nshall check whether there are any laws governing or prohibiting such \\ncollection, use or disclosure. Subject to any such laws, the agency shall \\nnot: \\n(a) collect or use personal data, as the case may be, unless:  \\ni. such collection or use is for any of the purposes in Section 4 of \\nthe Public Sector (Governance) Act and to the extent required by \\nany Ministerial Direction issued under the Act, and the agency that \\nis collecting or using the personal data is a Singapore public \\nsector agency as deﬁned in Section 2 of the Act;  \\nii. such collection or use is authorised by any law or required by \\norder of court;  \\niii. such collection or use is necessary in the public interest \\n(including without limitation national interest);  \\niv. such collection or use is permitted without consent by the \\nexclusions in Annex A or Part I of Annex B and complies with all \\napplicable legal obligations; or \\nv. the individual that the personal data relates to, gives, or is deemed \\nto give, his consent to the collection or use (as applicable) of his \\npersonal data by the agency for the purposes set out in paragraph \\n21;\\n Government Personal Data Protection Policies   |   11\\n(b) disclose personal data unless: \\ni. such disclosure is for any of the purposes in Section 4 of the \\nPublic Sector (Governance) Act and to the extent required by any \\nMinisterial Direction issued under the Act, and the disclosing \\nagency is a Singapore public sector agency as deﬁned in Section 2 \\nof the Act;  \\nii. such disclosure is authorised by any other law or required by order \\nof court;  \\niii. such disclosure is necessary in the public interest (including \\nwithout limitation national interest);  \\niv. such disclosure is permitted without consent by the exclusions in \\nAnnex A or Part 2 of Annex B, and such disclosure complies with \\nall applicable legal obligations; or \\nv. the individual that the personal data relates to, gives, or is deemed \\nto give, his consent to the disclosure of his personal data by the \\nagency for the purposes set out in paragraph 21.  \\n \\n06\\nWhere an agency needs to obtain an individual’s express consent \\npursuant to paragraph 5, the agency shall obtain the consent at or before \\nthe time of processing. Where the agency wants to use data for a \\npurpose not previously identiﬁed, consent to the use for that purpose \\nmay be obtained after the data is collected but before use. Where the \\ndata collected may be shared with another agency for another function \\nor purpose, the agency shall notify the individual as such at the point of \\ncollection. \\n \\n07\\nWhere an agency needs to obtain an individual’s express consent \\npursuant to paragraph 5, the agency shall not, as a condition of the \\nsupply of a product or service or the administration of a public \\nprogramme or scheme, require an individual to consent to the collection, \\nuse or disclosure of personal data about the individual beyond what is \\nreasonable to supply the product or service to the individual, or to \\nadminister the public programme or scheme. \\n Government Personal Data Protection Policies   |   12\\n \\n \\nDeemed Consent\\n08\\nWhere an agency needs to obtain an individual’s express consent \\npursuant to paragraph 5, the agency shall not obtain the consent through \\ndeception or by providing misleading or incomplete information. \\n \\n09\\nWhere an agency needs to obtain an individual’s express consent \\npursuant to paragraph 5, the agency shall obtain consent directly from \\nthe individual or any person validly acting on behalf of that individual. \\n \\n \\n10\\nAn individual is deemed to consent to the collection, use or disclosure of \\npersonal data about the individual by an agency for a purpose if: — \\n(a) the individual, without actually giving consent, voluntarily provides the \\npersonal data to the agency for that purpose; and  \\n(b) it is reasonable that the individual would voluntarily provide the data. \\n \\n11\\nIf an individual gives, or is deemed to have given, consent to the disclosure of \\npersonal data about the individual by one agency to another agency or a non-\\nGovernment entity (NGE) for a particular purpose, the individual is deemed to \\nconsent to the collection, use or disclosure of the personal data for that \\nparticular purpose by that other agency or NGE.  \\n12\\nWithout prejudice to paragraph 11 and subject to paragraph 18, an individual (P) \\nwho provides personal data to an agency (A) with a view to P entering into a \\ncontract with A is deemed to consent to the following where reasonably \\nnecessary for the conclusion of the contract between P and A: \\n(a) the disclosure of that personal data by A to another agency or NGE (such \\nagency or NGE referred to as “B”); \\n(b) the collection and use of that personal data by B; \\n(c) the disclosure of that personal data by B to another agency or NGE. \\n Government Personal Data Protection Policies   |   13\\n13\\nWhere an agency collects personal data disclosed to it by B under paragraph \\n12(c), both paragraphs 12(b) and (c) apply to the agency as if the personal data \\nwere disclosed by A to the agency under paragraph 12(a). \\n14\\nParagraphs 12 and 13 apply to personal data provided before 1 July 2021 by an \\nindividual to an agency with a view to the individual entering into a contract with \\nthe agency — \\n(a) on or after 1 July 2021; or \\n(b) which contract was entered into before 1 July 2021 and remains in force on \\nthat date (i.e. 1 July 2021),  \\nas if paragraphs 12 and 13 –  \\n(c) were in force when the personal data was so provided; and  \\n(d) had continued in force until 1 July 2021. \\n \\n15\\nWithout limiting paragraph 11 and subject to paragraph 18, an individual (P) \\nwho enters into a contract with an agency (A) and provides personal data to A \\npursuant or in relation to that contract is deemed to consent to the following: \\n(a) the disclosure of that personal data by A to another agency or NGE (such \\nagency or NGE referred to as “B”), where the disclosure is reasonably \\nnecessary — \\n(i) for the performance of the contract between P and A; or \\n(ii) for the conclusion or performance of a contract between A and B which \\nis entered into at P’s request, or which a reasonable person would \\nconsider to be in P’s interest; \\n(b) the collection and use of that personal data by B, where the collection and \\nuse are reasonably necessary for any purpose mentioned in paragraph (a); \\n(c) the disclosure of that personal data by B to another agency or NGE, where \\nthe disclosure is reasonably necessary for any purpose mentioned in \\nparagraph (a). \\n \\n Government Personal Data Protection Policies   |   14\\n \\n \\n \\n16\\nWhere an agency collects personal data disclosed to it by B under paragraph \\n15(c), both paragraphs 15(b) and (c) apply to the agency as if the personal data \\nwere disclosed by A to the agency under paragraph 15(a). \\n \\n17\\nParagraphs 15 and 16 apply to personal data provided before 1 July 2021 by an \\nindividual to an agency in relation to a contract that the individual entered into \\nbefore that date with the agency, and which remains in force on that date, as if \\nparagraphs 15 and 16 — \\n(a) were in force when the personal data was so provided; and \\n(b) had continued in force until 1 July 2021. \\n \\n18\\nParagraphs 12, 13, 14, 15, 16 and 17 do not affect any obligation under the \\ncontract between P and A that speciﬁes or restricts — \\n(a) the personal data provided by P that A may disclose to another agency or \\nNGE; or \\n(b) the purposes for which A may disclose the personal data provided by P to \\nanother agency or NGE. \\n \\nWithdrawal of Consent\\n19\\nWhere an agency needs to obtain an individual’s express consent \\npursuant to paragraph 5, and where the individual gives reasonable \\nnotice to the agency, the agency shall allow the individual to withdraw \\nconsent at any time, subject to legal or contractual restrictions or public \\ninterest requirements. On receipt of such notice, the agency shall inform \\nthe individual of the likely consequences of withdrawing his consent. \\n \\n Government Personal Data Protection Policies   |   15\\n \\n \\n \\nPurpose\\n20\\nSubject to the requirements of the retention of personal data, if the \\nagency allows the individual to withdraw consent to the collection, use or \\ndisclosure of personal data about the individual pursuant to paragraph \\n19, the agency shall cease collecting, using or disclosing the personal \\ndata, as the case may be, unless such collection, use or disclosure, as \\nthe case may be, without the consent of the individual is pursuant to \\nparagraph 5. \\n \\n21\\nAn agency shall collect, use or disclose personal data about an individual \\nonly for purposes: —   \\n(a) that:  \\n(i) are aligned to the purposes for which a Ministerial Direction is \\nissued under the Public Sector (Governance) Act; or \\n(ii) are authorised by law or required by order of court; or \\n(iii)are necessary in the public interest (including without limitation \\nnational interest); or \\n(iv)are permitted without consent by the exclusions in Annex A and \\nAnnex B and the collection, use or disclosure complies with all \\napplicable legal obligations; or \\n(v) the individual has given, or is deemed to have given, consent to, \\nand \\n(b) that the individual has been informed of under paragraph 22, if \\napplicable. \\n Government Personal Data Protection Policies   |   16\\n \\n \\nNotiﬁcation of Purpose\\n22\\nAn agency shall inform the individual of: — \\n(a) the purposes for the collection, use or disclosure of the personal \\ndata, as the case may be, on or before collecting the personal data; \\nand  \\n(b) any other purpose of the use or disclosure of the personal data of \\nwhich the individual has not been informed under paragraph (a), \\nbefore the use or disclosure of the personal data for that purpose. \\n \\n23\\nThe requirement to inform the individual of the purposes shall not apply \\nif: –  \\n(a) the individual is deemed to have consented to the collection, use or \\ndisclosure, as the case may be, for such purposes; or  \\n(b) the agency collects, uses or discloses the personal data without the \\nexpress consent of the individual in accordance with paragraph 5. \\n \\n24\\nDespite paragraph 23, an agency shall comply with paragraph 25 on or \\nbefore collecting, using or disclosing personal data about an individual \\nfor the purpose of or in relation to the agency — \\n(a) entering into an employment relationship with the individual or \\nappointing the individual to any oﬃce; or \\n(b) managing or terminating the employment relationship with or \\nappointment of the individual. \\n \\n Government Personal Data Protection Policies   |   17\\n25\\nFor the purposes of paragraph 24, the agency shall inform the individual \\nof the following: \\n(a) the purpose for which the agency is collecting, using or disclosing \\n(as the case may be) the personal data about the individual; \\n(b) on request by the individual, the contact information of a person who \\nis able to answer the individual’s questions about that collection, use \\nor disclosure (as the case may be) on behalf of the agency. \\n \\n26\\nAn agency shall take reasonable and practical steps to keep up-to-date \\ndocumentation of the purposes for which personal data is collected, \\nused and disclosed. \\n \\n Government Personal Data Protection Policies   |   18\\n \\n \\n \\n \\nAccess to and  \\nCorrection of Personal Data\\nAccess to Personal Data\\n27\\nSubject to paragraphs 28, 29 and 31, on request of an individual, an \\nagency shall, as soon as reasonably possible, provide the individual  \\nwith: — \\n(a) personal data about the individual that the individual has earlier \\nprovided to the agency; and \\n  \\n(b) information about the ways in which the personal data referred to in \\nparagraph (a) has been or may have been used or disclosed by the \\nagency in the last 12 months prior to the date of the request. \\n28\\nAn agency shall not be required to comply with paragraph 27 if any of the \\nexceptions in Annex C apply. \\n29\\nAn agency shall not provide an individual with the individual’s personal \\ndata or the information about the ways in which the personal data has \\nbeen or may have been used or disclosed if the provision of that personal \\ndata or other information, as the case may be, could reasonably be \\nexpected to — \\n(a) threaten the safety or physical or mental health of an individual other \\nthan the individual who made the request; \\n(b) cause immediate or grave harm to the safety or to the physical or \\nmental health of the individual who made the request; \\n Government Personal Data Protection Policies   |   19\\n(c) reveal personal data about another individual;  \\n(d) reveal the identity of an individual who has provided personal data \\nabout another individual and the individual providing the personal \\ndata does not consent to the disclosure of his identity; or \\n(e) be contrary to the national interest. \\n \\n30\\nIf an agency is able to provide the individual with the individual’s personal \\ndata and other information requested under paragraph 27 without \\nproviding the personal data and other information excluded under \\nparagraphs 28, 29 and 31, the agency shall do so. \\n \\n31\\nAn agency shall not inform any individual under paragraph 27(b) that the \\nagency has disclosed personal data about the individual to a law \\nenforcement agency if the disclosure was made under any written law \\nwithout the consent of the individual. \\n \\n32\\nWhere – \\n(a) an individual makes a request under paragraph 27 to an agency on or \\nafter 1 July 2021; and \\n(b) the agency, by reason of paragraphs 28 or 29, does not provide an \\nindividual with the individual’s personal data or other information \\nrequested under paragraph 27, \\nthe agency shall, within the time stated in paragraphs 27 and 35, and in \\naccordance with the stated requirements in paragraph 33, notify the \\nindividual of the rejection. \\n \\n33\\nSubject to paragraphs 28, 29 and 31, an agency shall respond to each \\nrequest made to it under paragraph 27 on or after 1 July 2021 as \\naccurately and completely as necessary and reasonably possible. \\n Government Personal Data Protection Policies   |   20\\n34\\nAn agency shall provide an applicant access to the applicant’s personal \\ndata requested under paragraph 27 on or after 1 July 2021 — \\n(a) by providing the applicant with a copy of the personal data and use \\nand disclosure information in documentary form; \\n(b) if sub‑paragraph (a) is impracticable in any particular case, by \\nallowing the applicant a reasonable opportunity to examine the \\npersonal data and use and disclosure information; or \\n(c) in any other form requested by the applicant as is acceptable to the \\nagency. \\n \\n35\\nSubject to the requirement to comply with paragraph 27 as soon as \\nreasonably possible, if an agency is unable to comply with that \\nrequirement within 30 days after receiving a request made in accordance \\nwith paragraph 36, the agency shall within that time inform the applicant \\nin writing of the time by which it will respond to the request. \\n \\n36\\nAn agency shall only respond to requests which meet the following \\nrequirements: \\n(a) The request is made in writing and includes suﬃcient detail to enable \\nthe agency, with a reasonable effort, to identify — \\n(i) the applicant making the request; and \\n(ii) in relation to a request under paragraph 27, the personal data and \\nuse and disclosure information requested by the applicant.  \\nand \\n(b) The request is sent to the agency — \\n(i) by sending the request to the agency’s Quality Service Manager \\n(or equivalent); or \\n(ii) in any other manner that is acceptable to the agency.  \\n Government Personal Data Protection Policies   |   21\\n \\n \\n \\nCorrection of Personal Data\\n37\\nWhere –  \\n(a) an individual makes a request under paragraph 27 to an agency on or \\nafter 1 July 2021; and \\n(b) the agency provides the individual, in accordance with paragraph 30, \\nwith the individual’s personal data or other information requested \\nunder paragraph 27, \\nthe agency shall notify the individual of the exclusion, under paragraphs \\n28 or 29, of any of the personal data or other information so requested. \\n \\n38\\nAn individual may request an agency to correct an error or omission in \\nthe personal data about the individual that the individual has earlier \\nprovided to the agency. \\n39\\nSubject to the requirement to comply with paragraph 41 as soon as \\npracticable, if an agency is unable to comply with that requirement within \\n30 days after receiving a request made in accordance with paragraph 40, \\nthe agency shall within that time inform the applicant in writing of the \\ntime by which it will respond to the request. \\n Government Personal Data Protection Policies   |   22\\n40\\nAn agency shall only respond to requests which meet the following \\nrequirements: \\n(a) The request is made in writing and includes suﬃcient detail to enable \\nthe agency, with a reasonable effort, to identify –  \\n(i) the applicant making the request; and  \\n(ii) in relation to a request under paragraph 38, the correction \\nrequested by the applicant.  \\nand \\n(b) The request is sent to the agency –  \\n(i) by sending the request to the agency’s Quality Service Manager \\n(or equivalent); or  \\n(ii) in any other manner that is acceptable to the agency.  \\n \\n41\\nUnless the agency is satisﬁed on reasonable grounds that a correction \\nshould not be made, the agency shall —  \\n  \\n(a) correct the personal data as soon as practicable; and \\n(b) send the corrected personal data to any other organisation (whether \\nan agency or a NGE) to which the personal data was disclosed in the \\nlast 12 months prior to the date the correction was made, unless the \\nother organisation informs the agency (or the agency is otherwise \\naware) that it no longer needs the data for legal or business \\npurposes. \\n \\n42\\nAn agency shall not be required to comply with paragraphs 41, 43 and 44 \\nin respect to the matters speciﬁed in Annex D. \\n Government Personal Data Protection Policies   |   23\\n \\n \\n \\n \\nPreservation of Copies of Personal Data\\n43\\nIn relation to a request made under paragraph 38, if no correction is \\nmade, the agency shall annotate the personal data with the correction \\nthat was requested but not made. \\n \\n44\\nWhen an agency is notiﬁed of a correction of personal data by another \\nagency or any other organisation, the receiving agency shall correct the \\npersonal data in the agency’s possession or under the agency’s control \\nunless the agency is satisﬁed on reasonable grounds that the correction \\nshould not be made. \\n \\n45\\nWhere – \\n(a) an individual, on or after 1 July 2021, makes a request under \\nparagraph 27(a) to an agency to provide personal data about the \\nindividual that is in the possession or under the control of the agency; \\nand \\n(b) the agency rejects the request to provide that personal data, \\n \\nthe agency shall preserve, for not less than 30 days from the agency’s \\nrejection, a copy of the personal data concerned. \\n \\n46\\nThe agency shall ensure that the copy of the personal data it preserves \\nfor the purposes of paragraph 45 is a complete and accurate copy of the \\npersonal data concerned. \\n \\n Government Personal Data Protection Policies   |   24\\n \\n \\n \\n \\n \\n \\nCare of Personal Data\\nRetention of Personal Data\\n47\\nAn agency shall take reasonable and practical steps to ensure that all \\ndata, including personal data, in their possession exhibit the \\ncharacteristics of quality data, as necessary for the purpose for which \\nthey are used. Quality data is: \\n(a) accurate; \\n(b) consistent; \\n(c) timely;  \\n(d) relevant; and  \\n(e) complete. \\n \\n48\\nSubject to paragraph 49, an agency shall retain personal data that has \\nbeen used to make a decision about an individual for a long enough \\nperiod to allow the individual access to the data after the decision has \\nbeen made. \\n49\\nAn agency shall retain personal data only for the period necessary for the \\nfulﬁlment of the purposes for which it was collected unless there is a \\nrequirement speciﬁed in legislation or in the IM on Oﬃce Admin: \\nManagement of Public Records to retain the personal data for archival or \\nany other purposes. \\n \\n Government Personal Data Protection Policies   |   25\\n \\nResponsibilities of Public Oﬃcers\\n50\\nOﬃcers shall be mindful of the requirements of the Oﬃcial Secrets Act \\nand Statutory Bodies and Government Companies (Protection of \\nSecrecy) Act, which prohibit unauthorised disclosure of certain \\ninformation held by virtue of a person’s oﬃce or position in the \\nGovernment or such entity.\\xa0 (These prohibitions apply regardless of \\nwhether the information was obtained directly from the public or from \\nanother agency). In addition, oﬃcers shall be mindful of their obligations \\nset out in the Public Sector (Governance) Act, which criminalises the acts \\nof knowing or reckless unauthorised disclosure of data, misuse of data \\nfor a gain to himself/other individual or for a harm or loss to another \\nindividual and knowing or reckless unauthorised re-identiﬁcation of \\nanonymised data.  \\n \\n51\\nAn agency shall ensure that all their oﬃcers are informed of their \\nresponsibilities and liabilities (i.e. that they should not access, use, \\ndisclose or retain personal data for purposes other than the performance \\nof their duties of employment, and that failure to comply may be criminal \\noffence and may rise to disciplinary action against the oﬃcer). \\n Government Personal Data Protection Policies   |   26\\n \\n \\n \\nAnnexes\\nAnnex A\\nCollection, Use and Disclosure of Personal Data without Consent \\nAnnex B\\nAdditional Bases for Collection, Use and Disclosure of Personal Data \\nWithout Consent \\nAnnex C\\nExceptions from Access Requirement \\nAnnex D\\nExceptions from Correction Requirement\\n Government Personal Data Protection Policies   |   27\\n \\n \\n \\nAnnex A - Collection, Use and \\nDisclosure of Personal Data \\nwithout Consent\\nPART 1 - VITAL INTERESTS OF INDIVIDUALS\\n01\\n(1)\\nSubject to sub-paragraph (2), the collection, use or disclosure (as \\nthe case may be) of personal data about an individual is necessary \\nfor any purpose which is clearly in the interests of the individual, \\nand — \\n(a)\\nconsent for the collection, use or disclosure (as the case may \\nbe) cannot be obtained in a timely way; or \\n(b)\\nthe individual would not reasonably be expected to withhold \\nconsent. \\n(2)\\nWhere the agency collects, uses or discloses (as the case may be) \\npersonal data about the individual under sub-paragraph (1), the \\nagency must, as soon as is practicable, notify the individual of the \\ncollection, use or disclosure (as the case may be) and the purpose \\nfor the collection, use or disclosure, as the case may be. \\n \\n02\\nThe collection, use or disclosure (as the case may be) of personal data \\nabout an individual is necessary to respond to an emergency that \\nthreatens the life, health or safety of the individual or another individual. \\n \\nGovernment Personal Data Protection Policies (Annex A)   |   28\\n \\n \\n \\n03\\nThe collection, use or disclosure (as the case may be) of personal data \\nabout an individual, where — \\n(a)\\nconsent for the collection, use or disclosure (as the case may \\nbe) cannot be obtained in a timely way; and \\n(b)\\nthere are reasonable grounds to believe that the health or \\nsafety of the individual or another individual will be seriously \\naffected. \\n04\\nThe collection, use or disclosure of personal data is for the purpose of \\ncontacting the next-of-kin or a friend of any injured, ill or deceased \\nindividual. \\nPART 2 - MATTERS AFFECTING PUBLIC\\n01\\nThe collection, use or disclosure (as the case may be) of personal data \\nabout an individual that is publicly available. \\n \\n02\\nThe collection, use or disclosure (as the case may be) of personal data \\nabout an individual is solely for artistic or literary purposes. \\n \\n03\\nThe collection, use or disclosure (as the case may be) of personal data \\nabout an individual is solely for archival or historical purposes, if a \\nreasonable person would not consider the personal data to be too \\nsensitive to the individual to be collected, used or disclosed (as the case \\nmay be) at the proposed time. \\n \\nGovernment Personal Data Protection Policies (Annex A)   |   29\\n04\\nThe collection, use or disclosure (as the case may be) of personal data \\nabout an individual is necessary for evaluative purposes. \\n \\n05\\nThe collection, use or disclosure (as the case may be) of personal data \\nabout an individual is necessary for any investigation or proceedings.  \\n06\\nThe collection, use or disclosure (as the case may be) of personal data \\nabout an individual is necessary for the agency — \\n(a)\\nto recover a debt owed by the individual to the agency; or  \\n(b)\\nto pay to the individual a debt owed by the agency. \\n \\n07\\nThe collection, use or disclosure (as the case may be) of personal data \\nabout an individual is necessary for the provision of legal services by the \\nagency to another agency or any other organisation, or for the agency to \\nobtain legal services. \\n \\n08\\nThe collection, use or disclosure (as the case may be) of personal data \\nabout an individual is to — \\n(a)\\nconfer an interest or a beneﬁt on the individual under a private \\ntrust or beneﬁt plan; and \\n(b)\\nadminister that trust or beneﬁt plan, at the request of the \\nsettlor or the person establishing the beneﬁt plan, as the case \\nmay be. \\n \\nGovernment Personal Data Protection Policies (Annex A)   |   30\\n09\\nThe personal data about an individual — \\n(a)\\nis provided to the agency by another individual to enable the \\nagency to provide a service for the personal or domestic \\npurposes of that other individual; and \\n(b)\\nis collected, used or disclosed (as the case may be) by the \\nagency solely for the purpose in sub-paragraph (a). \\n \\n10\\nThe personal data about an individual — \\n(a)\\nis included in a document produced in the course, and for the \\npurposes, of the individual’s employment, business or \\nprofession; and \\n(b)\\nis collected, used or disclosed (as the case may be) for \\npurposes consistent with the purpose for which the document \\nwas produced. \\n11\\nThe personal data about an individual is collected, used or disclosed (as \\nthe case may be) by the agency, and the collection, use or disclosure (as \\nthe case may be) of the personal data is reasonable for the purpose of or \\nin relation to the agency — \\n(a)\\nentering into an employment relationship with the individual or \\nappointing the individual to any oﬃce; or \\n(b)\\nmanaging or terminating the employment relationship with or \\nappointment of the individual. \\n \\nGovernment Personal Data Protection Policies (Annex A)   |   31\\n \\n \\nPART 3 - BUSINESS ASSET TRANSACTIONS\\n01\\n(1)\\nSubject to the conditions in sub-paragraphs (2), (3), (4) and (5), \\nwhere an agency (X) is a party or a prospective party to a business \\nasset transaction with another organisation (Y), personal data \\nabout an applicable individual of Y — \\n(a)\\nis collected from Y by X for the purposes of the business \\nasset transaction; \\n(b)\\nis used or disclosed by X in relation to the business asset \\ntransaction; or \\n(c)\\nis disclosed by Y to X for the purposes of the business \\ntransaction. \\n(2)\\nWhere the business asset transaction concerns any part of Y or Y’s \\nbusiness assets, the personal data mentioned in sub-paragraph (1) \\nmust relate directly to that part of Y or Y’s business assets, as the \\ncase may be. \\n(3)\\nIf X is a prospective party to the business asset transaction, the \\nfollowing conditions apply: \\n(a)\\nX may collect, and Y may disclose, only personal data that is \\nnecessary for X to determine whether to proceed with the \\nbusiness asset transaction; \\n(b)\\nX and Y must have entered into an agreement that requires X \\nto use or disclose the personal data solely for purposes \\nrelated to the business asset transaction. \\n(4)\\nIf X enters into the business asset transaction, the following \\nconditions apply: \\n(a)\\nX may use or disclose the personal data X collected from Y \\nonly for the same purposes for which Y would have been \\npermitted to use or disclose the personal data;\\nGovernment Personal Data Protection Policies (Annex A)   |   32\\n(b)\\nif any personal data X collects from Y does not relate directly \\nto the part of Y or Y’s business assets with which the business \\nasset transaction entered into is concerned, X must destroy, or \\nreturn to Y, that personal data; \\n(c)\\nX or Y must notify the applicable individuals of Y whose \\npersonal data is disclosed that — \\n(i)\\nthe business asset transaction has taken place; and \\n(ii)\\nthe personal data about them has been disclosed to X. \\n(5)\\nIf the business asset transaction does not proceed or is not \\ncompleted, X must destroy, or return to Y, all personal data \\ncollected. \\n02\\n(1)\\nSubject to the conditions in sub-paragraphs (2), (3) and (4), where \\nan agency (X) is a party or a prospective party to a business asset \\ntransaction with another organisation (Y) in respect of Y’s interest \\nin a third organisation (Z) (called in this paragraph the relevant \\ntransaction), personal data about an applicable individual of Z — \\n(a)\\nis collected from Y or Z by X, or from Z by Y, for the purposes \\nof the relevant transaction; \\n(b)\\nis used or disclosed by X or Y in relation to the relevant \\ntransaction; or  \\n(c)\\nis disclosed by Y or Z (as the case may be) to X, or by Z to Y, \\nfor the purposes of the relevant transaction.\\nGovernment Personal Data Protection Policies (Annex A)   |   33\\n(2)\\nIf X is a prospective party to the relevant transaction, the following \\nconditions apply: \\n(a)\\nwhere X collects the personal data mentioned in sub-\\nparagraph (1) from Y or Z — \\n(i)\\nX may collect, and Y or Z (as the case may be) may \\ndisclose, only personal data that is necessary for X to \\ndetermine whether to proceed with the relevant \\ntransaction; and \\n(ii)\\nX and Y or Z (as the case may be) must have entered into \\nan agreement that requires X to use or disclose the \\npersonal data solely for purposes related to the relevant \\ntransaction; \\n(b)\\nwhere Y collects the personal data mentioned in sub-\\nparagraph (1) from Z — \\n(i)\\nY may collect, and Z may disclose, only personal data \\nthat is necessary for X or Y (as the case may be) to \\ndetermine whether to proceed with the relevant \\ntransaction; and \\n(ii)\\nY and Z must have entered into an agreement that \\nrequires Y to use or disclose the personal data solely for \\npurposes related to the relevant transaction. \\n(3)\\nIf X enters into the relevant transaction, the following conditions \\napply: \\n(a)\\nX may use or disclose the personal data collected from Y or Z \\n(as the case may be) only for the same purposes for which Y \\nor Z (as the case may be) would have been permitted to use or \\ndisclose the personal data; \\n(b)\\nY may use or disclose the personal data collected from Z only \\nfor the same purposes for which Z would have been permitted \\nto use or disclose the personal data;\\nGovernment Personal Data Protection Policies (Annex A)   |   34\\n(c)\\nX, Y or Z must notify the applicable individuals of Z whose \\npersonal data is disclosed that — \\n(i)\\nthe relevant transaction has taken place; and \\n(ii)\\nthe personal data about them has been disclosed to X. \\n(4)\\nIf the relevant transaction does not proceed or is not completed —  \\n(a)\\nX must destroy, or return to Y or Z (as the case may be), all \\npersonal data collected; and \\n(b)\\nY must destroy, or return to Z, all personal data collected. \\n \\n03\\nIn this Part — \\n \\n“applicable individual”, in relation to an agency or NGE, includes a \\ncontractor, a customer, a director, an employee, an oﬃcer or a \\nshareholder (where applicable) of the agency or NGE;  \\n \\n \\n“business asset transaction” — \\n(a)\\nmeans the purchase, sale, lease, merger or \\namalgamation or any other acquisition, disposal or \\nﬁnancing of — \\n(i)\\nan organisation or a portion of an organisation; \\n(ii)\\nan interest in an organisation; or \\n(iii)\\nany of the business or assets of an organisation, \\nother than any personal data to be disclosed under \\nparagraph 1(1) or 2(1), as the case may be; and \\nGovernment Personal Data Protection Policies (Annex A)   |   35\\n(b)\\nincludes — \\n(i)\\nthe amalgamation of a corporation with one or \\nmore related corporations; and \\n(ii)\\nthe transfer or disposal of any of the business or \\nassets of a corporation to a related corporation; \\n \\n“business trust” has the meaning given by section 2 of the \\nBusiness Trusts Act (Cap. 31A);  \\n \\n“corporation” and “related corporation” have the meanings given by \\nsection 4(1) of the Companies Act (Cap. 50); \\n \\n“interest” means — \\n(a)\\nin relation to a corporation — a share in that corporation; \\n(b)\\nin relation to an entity other than a corporation — any \\nright or interest (whether legal or equitable) in that entity, \\nby whatever name called; \\n(c)\\nin relation to a business trust — a unit in that business \\ntrust; and \\n(d)\\nin relation to a trust other than a business trust — any \\nright or interest (whether legal or equitable) in that trust, \\nby whatever name called. \\nGovernment Personal Data Protection Policies (Annex A)   |   36\\n \\n \\n \\n \\nDivision 1 — Research \\n \\nDivision 2 — Public interest \\n \\nAnnex B -  Additional Bases for \\nCollection, Use and Disclosure of \\nPersonal Data Without Consent\\nPART 1: COLLECTION AND/OR USE OF  \\nPERSONAL DATA\\n01\\nThe use of personal data about an individual for a research purpose \\n(including historical or statistical research), if — \\n(a)\\nthe research purpose cannot reasonably be accomplished \\nunless the personal data is used in an individually identiﬁable \\nform;  \\n(b)\\nthere is a clear public interest to using the personal data for \\nthe research purpose; \\n(c)\\nthe results of the research will not be used to make any \\ndecision that affects the individual; and \\n(d)\\nin the event that the results of the research are published, the \\nagency publishes the results in a form that does not identify \\nthe individual. \\n \\n01\\nThe collection or use of personal data about an individual who is a \\ncurrent or former student of an educational institution by an agency for \\nthe purposes of policy formulation or review.  \\n \\nGovernment Personal Data Protection Policies (Annex B)   |   37\\n \\n \\n \\nDivision 1 — Research \\n \\nPART 2: DISCLOSURE OF PERSONAL DATA  \\nWITHOUT CONSENT\\n02\\nThe collection or use of personal data about an individual who is a \\ncurrent or former patient of any of the following by a public agency for \\nthe purposes of policy formulation or review: \\n(a)\\na healthcare institution licensed under the Private Hospitals \\nand Medical Clinics Act (Cap. 248); \\n(b)\\na licensee under the Healthcare Services Act 2020 (Act 3 of \\n2020); \\n(c)\\na prescribed healthcare body. \\n03\\nThe collection or use of personal data about any individual disclosed to \\nany oﬃcer of a prescribed law enforcement agency, upon production of \\nwritten authorisation signed by the head or director of that prescribed \\nlaw enforcement agency or a person of a similar rank, certifying that the \\npersonal data is necessary for the purposes of the functions or duties of \\nthe oﬃcer. \\nFor the purposes of this paragraph 3, the term “prescribed law \\nenforcement agency” shall have the same meaning given to it in the \\nPersonal Data Protection Act (No. 26 of 2012).  \\n01\\nThe disclosure of personal data about an individual for a research \\npurpose (including historical or statistical research), if — \\n(a)\\nthe research purpose cannot reasonably be accomplished \\nunless the personal data is disclosed in an individually \\nidentiﬁable form; \\nGovernment Personal Data Protection Policies (Annex B)   |   38\\n(b)\\nit is impracticable for the agency to seek the consent of the \\nindividual for the disclosure; \\n(c)\\nthere is a clear public interest to disclosing the personal data \\nfor the research purpose; \\n(d)\\nthe results of the research will not be used to make a decision \\nthat affects the individual; \\n(e)\\nin the event that the results of the research are published, the \\nagency publishes the results in a form that does not identify \\nthe individual; and \\n(f)\\nthe organisation to which the personal data is to be disclosed \\nhas signed an agreement to comply with — \\n(i)\\nthe policies and procedures relating to the conﬁdentiality \\nof personal data of the agency that collected the \\npersonal data; \\n(ii)\\nsecurity and conﬁdentiality conditions of the agency \\ndisclosing the personal data; \\n(iii)\\na requirement to remove or destroy individual identiﬁers \\nat the earliest reasonable opportunity; and \\n(iv)\\na requirement not to use the personal data for any other \\npurpose or to disclose the personal data in individually \\nidentiﬁable form without the express authorisation of the \\nagency that disclosed the personal data. \\n \\n \\nGovernment Personal Data Protection Policies (Annex B)   |   39\\n \\nAnnex C - Exceptions from  \\nAccess Requirement\\n01\\nAn agency is not required to comply with paragraph 27 in any of the \\nfollowing circumstances — \\n(a)\\nopinion data kept solely for an evaluative purpose; \\n(b)\\nany examination conducted by an education institution, \\nexamination scripts and, prior to the release of examination \\nresults, examination results; \\n(c)\\na document related to a prosecution if all proceedings related \\nto the prosecution have not been completed; \\n(d)\\npersonal data which is subject to legal privilege; \\n(e)\\nthe personal data or other information should not be \\ndisclosed for public interest, legal, security, or commercial \\nproprietary reasons;  \\n(f)\\npersonal data collected, used or disclosed without consent, \\nunder Paragraph 5 of Part 2 of Annex A, for the purposes of an \\ninvestigation if the investigation and associated proceedings \\nand appeals have not been completed; \\n(g)\\nthe personal data of the beneﬁciaries of a private trust kept \\nsolely for the purpose of administering the trust; \\n(h)\\npersonal data kept by an arbitral institution or a mediation \\ncentre solely for the purposes of arbitration or mediation \\nproceedings administered by the arbitral institution or \\nmediation centre; \\nGovernment Personal Data Protection Policies (Annex C)   |   40\\n(i)\\nthe personal data was collected or created by a mediator or \\narbitrator in the conduct of a mediation or arbitration for which \\nhe was appointed to act — \\n(i)\\nunder a collective agreement under the Industrial \\nRelations Act (Cap. 136) or by agreement between the \\nparties to the mediation or arbitration;  \\n(ii)\\nunder any written law; or \\n(iii)\\nby a court, arbitral institution or mediation centre; or \\n(j)\\nany request — \\n(i)\\nthat would unreasonably interfere with the operations of \\nthe agency because of the repetitious or systematic \\nnature of the requests; \\n(ii)\\nif the burden or expense of providing access would be \\nunreasonable to the agency or disproportionate to the \\nindividual’s interests; \\n(iii)\\nfor information that does not exist or cannot be found; \\n(iv)\\nfor information that is trivial; or \\n(v)\\nthat is otherwise frivolous or vexatious. \\n02\\nThe Agency may make the determination in paragraph 1(j)(i) above \\nbased on the number and frequency of requests received.\\nGovernment Personal Data Protection Policies (Annex C)   |   41\\n \\nAnnex D - Exceptions from \\nCorrection Requirement\\n01\\nAn agency is not required to comply with paragraph 38, 39, 40, 41, 42, 43 \\nand 44 in any of the following circumstances — \\n(a)\\ndata which will not cause any adverse consequences to the \\nindividual if not corrected, such as school records of students \\nthat are frozen from the point the student left the school; \\n(b)\\nopinion data kept solely for an evaluative purpose; \\n(c)\\nany examination conducted by an education institution, \\nexamination scripts and, prior to the release of examination \\nresults, examination results; \\n(d)\\na document related to a prosecution if all proceedings related \\nto the prosecution have not been completed; \\n(e)\\nthe personal data of the beneﬁciaries of a private trust kept \\nsolely for the purpose of administering the trust; or \\n(f)\\npersonal data kept by an arbitral institution or a mediation \\ncentre solely for the purposes of arbitration or mediation \\nproceedings administered by the arbitral institution or \\nmediation centre. \\n02\\nAn agency is not required to transmit corrected personal data to any \\nother organisation under paragraph 41(b) if it is not reasonably \\npracticable or it involves a disproportionate effort for the agency to do so \\ne.g. public records shared under open access (with or without a fee). \\nGovernment Personal Data Protection Policies (Annex D)   |   42\\n \\n \\nChange Log\\nS/N\\nDate of Change\\nDescription of Change\\n1\\n1 July 2021\\na. Introduced new provision on deemed consent by \\ncontractual necessity \\nb. Revised existing exceptions to consent — business \\nasset transaction purposes, employment relationship \\npurposes and research purposes \\nc. Elaborated what public agencies are required to do when \\nthey reject individuals’ requests for access to their \\npersonal data, e.g. notify individuals of the rejection \\nwithin the stated time and in accordance with the stated \\nrequirements, preserve a copy of the personal data \\nconcerned \\nd. Clariﬁed that the “repetitious or systematic nature” of \\naccess requests referred to the number and frequency \\nof requests received  \\nGovernment Personal Data Protection Policies (Change Log)   |   43\\n',\n",
       " 'Key Policies of the\\nGovernment’s Third-Party\\nManagement Framework\\nNote: This document contains general information for \\nthe public only. It is not intended to be relied upon as \\na comprehensive or deﬁnitive guide on each \\nagency’s policies and practices. The Government \\nmay, in its sole discretion, update the policies set out in \\nthis document without publishing such updates.\\nPublished on 30 Apr 2020\\nIntroduction\\nThe Government recognises that Agencies work extensively with Third \\nParties to deliver services to citizens, carry out operational functions, \\nand plan and analyse policies. When doing so, these Third Parties may \\nhandle large volumes of data from the Government. Hence, the high \\nstandards of data protection that the Government places on itself must \\nalso extend to these Third Parties.\\nWith this in mind, the Government has introduced policies to guide \\nAgencies in ensuring that Third Parties adequately safeguard data. \\nThese policies are organised based on the lifecycle of the relationship \\nbetween the Agency and the Third Party, namely: Evaluation and \\nSelection, Contracting and On-boarding, Service Management and \\nTransition Out (as shown in Diagram below). When working with Third \\nParties, Agencies will deﬁne the data security requirements that each \\nThird Party has to comply with based on the Government’s data \\nsecurity policies.\\n01\\nKey Policies of the Government’s Third-Party Management Framework    |\\nLifecycle of the Third-Party1\\nManagement Framework\\na  Data subject refers to the individual or entity to which the data relates.\\n \\nb  Agency refers to Organs of State, Ministries, Departments and Statutory Boards.\\n  DEFINITION\\n1 Third Party is deﬁned as a party (other than a data subjecta \\nor an Agencyb) which:\\n(i) delivers, develops, implements, operates, provides or otherwise supplies \\nICT systems or services to an Agency, or\\n(ii) collects, stores or otherwise processes data for an Agency.\\nThird-Party\\nManagement\\nFramework\\n01  Evaluation and Selection\\n02  Contracting\\n         and On-boarding\\n04\\n  Transition\\n        Out\\n03  Service Management\\n02\\nKey Policies of the Government’s Third-Party Management Framework    |\\n01    To ensure that the Government \\nadequately manages its security, data \\nand project risks when engaging Third \\nParties, Agencies shall identify, assess, \\nprioritise and mitigate the risks when \\noutsourcing work to Third Parties during \\nthe evaluation and selection process.\\n02    To ensure that the security, data and \\nproject risks involved in assigning work \\nto Third Parties are addressed, \\nAgencies shall establish contracts or \\nother equivalent instruments with their \\nThird Parties to govern how the Third \\nParties should perform the assigned \\nwork in a manner that addresses all \\nidentiﬁed risks involved.\\n03    To ensure that the appointed Third \\nParties (and their personnel) are \\nadequately assessed, cleared and \\nprepared for the assigned work, \\nAgencies shall implement an \\non-boarding process which includes \\nbrieﬁngs on applicable data security \\nrequirements, security clearance and \\nobtaining undertakings from Third-Party \\npersonnel, where necessary.\\nKey Policies of the Third-Party \\nManagement Framework\\nStage 1\\nEvaluation\\nand Selection\\nStage 2 \\nContracting\\nand\\nOn-boarding\\n03\\nKey Policies of the Government’s Third-Party Management Framework    |\\n04    Agencies shall regularly monitor and \\nreview the Third Parties’ performance \\nand compliance with applicable \\npublic sector policies and standards \\nwhich are incorporated in the \\ncontracts or equivalent instruments \\nestablished with the Third Parties.\\n05    Agencies shall perform regular \\nchecks or audits on their Third Parties \\nthroughout the period of \\nengagement to ensure that the Third \\nParties carry out their assigned work in \\ncompliance with contractual \\nobligations and applicable public \\nsector policies and standards. More \\nstringent requirements will be \\nimposed on Third Parties dealing with \\nsystems and services of a higher risk.\\n06    To ensure business continuity and the \\nproper transfer and disposal of data \\nand assets back to Agencies upon \\nthe exit of the Third Parties, Agencies \\nshall put in place and maintain \\nup-to-date exit management plans \\nfor all Third Parties’ work and services, \\nwhich shall include the conduct of \\nexit checks or audits before the Third \\nParties discontinue their services.\\nStage 3 \\nService\\nManagement\\nStage 4\\nTransition Out\\n \\n04\\nKey Policies of the Government’s Third-Party Management Framework    |\\n']"
      ]
     },
     "execution_count": 11,
     "metadata": {},
     "output_type": "execute_result"
    }
   ],
   "source": [
    "data = read_pdf_to_string(config['data_dir_path'])\n",
    "data"
   ]
  },
  {
   "cell_type": "code",
   "execution_count": 0,
   "metadata": {
    "application/vnd.databricks.v1+cell": {
     "cellMetadata": {
      "byteLimit": 2048000,
      "rowLimit": 10000
     },
     "inputWidgets": {},
     "nuid": "6b952b0e-df9c-4b04-a48e-4745100c42c5",
     "showTitle": true,
     "title": "Sample"
    }
   },
   "outputs": [],
   "source": [
    "data = [doc[:2000] for doc in data]"
   ]
  },
  {
   "cell_type": "markdown",
   "metadata": {
    "application/vnd.databricks.v1+cell": {
     "cellMetadata": {
      "byteLimit": 2048000,
      "rowLimit": 10000
     },
     "inputWidgets": {},
     "nuid": "f2a9279a-b87f-4fac-9666-7ad4961a84d5",
     "showTitle": false,
     "title": ""
    }
   },
   "source": [
    "# Generate Question/Answer Pair \n",
    "\n",
    "So we have loaded the index and setup the retriever and we also have an application that we have assembled in `Step#2`. \n",
    "\n",
    "First thing we need to do is to really figure out what are some data points that we want to evaluate it on. \n",
    "\n",
    "Most simple way : Basically we're going to come up with data points that we think are good examples ourselves. And so to do that, we can just look at some of the data and come up with examples questions and then example ground truth answers that we can later use to evaluate. But this doesn't really scale that well. It takes a lot of time to go through each example and figure out what's going on to come up with example evaluation dataset and so is there a way that we can AUTOMATE it?\n",
    "\n",
    "<b> And one of the really cool ways that we think we can automate it is with language models themselves.</b> Let's implement it"
   ]
  },
  {
   "cell_type": "markdown",
   "metadata": {
    "application/vnd.databricks.v1+cell": {
     "cellMetadata": {
      "byteLimit": 2048000,
      "rowLimit": 10000
     },
     "inputWidgets": {},
     "nuid": "a3d7428f-af64-42f4-a5c0-8c075bfd7a45",
     "showTitle": false,
     "title": ""
    }
   },
   "source": [
    "- examples are generated using LLM which is question answer pair\n",
    "- now we are passing the questions from \"examples\" into our model to generate predictions\n",
    "- compare the answer prediction[answer] v/s example_question_answer_pair[answe"
   ]
  },
  {
   "cell_type": "markdown",
   "metadata": {
    "application/vnd.databricks.v1+cell": {
     "cellMetadata": {
      "byteLimit": 2048000,
      "rowLimit": 10000
     },
     "inputWidgets": {},
     "nuid": "b8ffaf97-2c35-4ae4-860a-66740c6e70fb",
     "showTitle": false,
     "title": ""
    }
   },
   "source": [
    "\n",
    "### `QAGenerateChain` takes in documents and it will create question answer pair from each document. It'll do this using a language model itself. "
   ]
  },
  {
   "cell_type": "code",
   "execution_count": 0,
   "metadata": {
    "application/vnd.databricks.v1+cell": {
     "cellMetadata": {
      "byteLimit": 2048000,
      "rowLimit": 10000
     },
     "inputWidgets": {},
     "nuid": "b54a58bb-81ff-4b27-b4b0-876130db6e3c",
     "showTitle": false,
     "title": ""
    }
   },
   "outputs": [
    {
     "output_type": "stream",
     "name": "stderr",
     "output_type": "stream",
     "text": [
      "/local_disk0/.ephemeral_nfs/envs/pythonEnv-674b09a7-4e83-42e1-9098-f2a56c8b7efd/lib/python3.10/site-packages/langchain/chains/llm.py:303: UserWarning: The apply_and_parse method is deprecated, instead pass an output parser directly to LLMChain.\n  warnings.warn(\n"
     ]
    }
   ],
   "source": [
    "example_gen_chain = QAGenerateChain.from_llm(ChatOpenAI())\n",
    "\n",
    "# for each doc ...\n",
    "generated_examples = []\n",
    "\n",
    "for doc in data:\n",
    "        try:\n",
    "            generated_examples += example_gen_chain.apply_and_parse([{\"doc\": doc}])\n",
    "        except ValueError as e:\n",
    "            print(f'OOPSY LLM QA Chain encountered while generating QnA error: {e}')"
   ]
  },
  {
   "cell_type": "markdown",
   "metadata": {
    "application/vnd.databricks.v1+cell": {
     "cellMetadata": {
      "byteLimit": 2048000,
      "rowLimit": 10000
     },
     "inputWidgets": {},
     "nuid": "ee1d55f5-d85c-4a11-bea9-6b48d02b9966",
     "showTitle": false,
     "title": ""
    }
   },
   "source": [
    "##### So now, if we look at what exactly is returned here, we can see a query and we can see an answer. Look at that!!! \n",
    "\n",
    "We just generated a bunch of question-answer pairs. More importantly we didn't have to write it ourselves. Saves us a bunch of time allowing us to code more exciting things. \n"
   ]
  },
  {
   "cell_type": "code",
   "execution_count": 0,
   "metadata": {
    "application/vnd.databricks.v1+cell": {
     "cellMetadata": {
      "byteLimit": 2048000,
      "rowLimit": 10000
     },
     "inputWidgets": {},
     "nuid": "9f7ff72f-9c3f-421c-ae8b-02e7792dd308",
     "showTitle": false,
     "title": ""
    }
   },
   "outputs": [
    {
     "output_type": "execute_result",
     "data": {
      "text/plain": [
       "[{'query': 'According to the document, why do the data security measures implemented by each agency differ?',\n",
       "  'answer': \"The data security measures implemented by each agency differ depending on various factors such as the sensitivity of the data and the agency's assessment of data security risks.\"},\n",
       " {'query': 'What are the two legal frameworks that govern data management in the public and private sectors?',\n",
       "  'answer': 'The two legal frameworks that govern data management in the public and private sectors are the Public Sector (Governance) Act (PSGA) for the public sector and the Personal Data Protection Act (PDPA) for the private sector.'},\n",
       " {'query': \"What are the key policies of the Government's Third-Party Management Framework?\",\n",
       "  'answer': \"The key policies of the Government's Third-Party Management Framework are designed to guide agencies in ensuring that third parties adequately safeguard data. These policies are organized based on the lifecycle of the relationship between the agency and the third party, including evaluation and selection, contracting and on-boarding, service management, and transition out.\"}]"
      ]
     },
     "execution_count": 14,
     "metadata": {},
     "output_type": "execute_result"
    }
   ],
   "source": [
    "generated_examples = [example[\"qa_pairs\"] for example in generated_examples]\n",
    "generated_examples"
   ]
  },
  {
   "cell_type": "markdown",
   "metadata": {
    "application/vnd.databricks.v1+cell": {
     "cellMetadata": {
      "byteLimit": 2048000,
      "rowLimit": 10000
     },
     "inputWidgets": {},
     "nuid": "56c15e31-d6f8-4b0e-b602-9be894ce0eb4",
     "showTitle": false,
     "title": ""
    }
   },
   "source": [
    "\n",
    "Let's run these generated examples through the chain and generate predictions"
   ]
  },
  {
   "cell_type": "code",
   "execution_count": 0,
   "metadata": {
    "application/vnd.databricks.v1+cell": {
     "cellMetadata": {
      "byteLimit": 2048000,
      "rowLimit": 10000
     },
     "inputWidgets": {},
     "nuid": "10fe4cdb-add8-4c80-a2d7-5f310b5600f9",
     "showTitle": false,
     "title": ""
    }
   },
   "outputs": [],
   "source": [
    "model = mlflow.pyfunc.load_model(config['model_uri'])\n",
    "queries = pd.DataFrame({'question': [r['query'] for r in generated_examples]})\n",
    "predictions = model.predict(queries)"
   ]
  },
  {
   "cell_type": "code",
   "execution_count": 0,
   "metadata": {
    "application/vnd.databricks.v1+cell": {
     "cellMetadata": {
      "byteLimit": 2048000,
      "rowLimit": 10000
     },
     "inputWidgets": {},
     "nuid": "64f70ab0-33f0-459b-8133-f6fd2db36269",
     "showTitle": false,
     "title": ""
    }
   },
   "outputs": [
    {
     "output_type": "execute_result",
     "data": {
      "text/plain": [
       "[{'question': 'According to the document, why do the data security measures implemented by each agency differ?',\n",
       "  'answer': 'The data security measures implemented by each agency differ due to the specific needs of the agency, the type of data being protected, and the resources available to the agency.'},\n",
       " {'question': 'What are the two legal frameworks that govern data management in the public and private sectors?',\n",
       "  'answer': 'The two legal frameworks that govern data management in the public and private sectors are the General Data Protection Regulation (GDPR) and the Data Protection Act 2018 (DPA 2018).\\nThe above response may have been hallucinated, and should be independently verified.'},\n",
       " {'question': \"What are the key policies of the Government's Third-Party Management Framework?\",\n",
       "  'answer': \"The key policies of the Government's Third-Party Management Framework include the following: 1) Establishing a risk-based approach to third-party management; 2) Establishing a framework for assessing and managing third-party risk; 3) Establishing a process for monitoring and reporting on third-party performance; 4) Establishing a process for managing third-party contracts; and 5) Establishing a process for managing third-party data security.\\nThe above response may have been hallucinated, and should be independently verified.\"}]"
      ]
     },
     "execution_count": 16,
     "metadata": {},
     "output_type": "execute_result"
    }
   ],
   "source": [
    "predictions"
   ]
  },
  {
   "cell_type": "markdown",
   "metadata": {
    "application/vnd.databricks.v1+cell": {
     "cellMetadata": {
      "byteLimit": 2048000,
      "rowLimit": 10000
     },
     "inputWidgets": {},
     "nuid": "d7cbacd0-a389-488c-93bb-f002ef69113a",
     "showTitle": false,
     "title": ""
    }
   },
   "source": [
    "\n",
    "# Evaluation\n",
    "\n",
    "So we have generated whole bunch of prediction for the question/answer pairs we have created. \n",
    "\n",
    "HOW ARE WE EVER GOING TO EVALUATE THIS?\n",
    "\n",
    "Similary to when creating them, one way to do it would be manually. We cound run the chain over all the examples, then look at the outputs, and try to figure out what's going on, whether it's correcct, incorrect or even partially correct. And this really starts to get a little bit tedious over time and a whole lot BORING. \n",
    "\n",
    "Lets go back to our favorite solution. <b>Can we ask a language model to do it for us? </b>\n",
    "\n",
    "## YES WE CAN\n",
    "\n",
    "\n",
    "\n",
    "#### `QAEvalChain` at rescue"
   ]
  },
  {
   "cell_type": "code",
   "execution_count": 0,
   "metadata": {
    "application/vnd.databricks.v1+cell": {
     "cellMetadata": {
      "byteLimit": 2048000,
      "rowLimit": 10000
     },
     "inputWidgets": {},
     "nuid": "73fd55b5-af59-4d48-b2d9-2e6b30794eb2",
     "showTitle": false,
     "title": ""
    }
   },
   "outputs": [],
   "source": [
    "llm = OpenAI(temperature=0)\n",
    "eval_chain = QAEvalChain.from_llm(llm)\n",
    "graded_outputs = eval_chain.evaluate(generated_examples, predictions, question_key=\"query\", prediction_key=\"answer\")"
   ]
  },
  {
   "cell_type": "code",
   "execution_count": 0,
   "metadata": {
    "application/vnd.databricks.v1+cell": {
     "cellMetadata": {
      "byteLimit": 2048000,
      "rowLimit": 10000
     },
     "inputWidgets": {},
     "nuid": "b5f2bf65-fb29-428b-9ad2-5383cd0c0cd1",
     "showTitle": false,
     "title": ""
    }
   },
   "outputs": [
    {
     "output_type": "execute_result",
     "data": {
      "text/plain": [
       "[{'results': ' CORRECT'}, {'results': ' CORRECT'}, {'results': ' CORRECT'}]"
      ]
     },
     "execution_count": 18,
     "metadata": {},
     "output_type": "execute_result"
    }
   ],
   "source": [
    "graded_outputs"
   ]
  },
  {
   "cell_type": "code",
   "execution_count": 0,
   "metadata": {
    "application/vnd.databricks.v1+cell": {
     "cellMetadata": {
      "byteLimit": 2048000,
      "rowLimit": 10000
     },
     "inputWidgets": {},
     "nuid": "7c9256ce-70de-49d1-a7c9-0bbd01099fe9",
     "showTitle": false,
     "title": ""
    }
   },
   "outputs": [
    {
     "output_type": "stream",
     "name": "stdout",
     "output_type": "stream",
     "text": [
      "\n\n\nExample 0:\nQuestion: According to the document, why do the data security measures implemented by each agency differ?\nReal Answer: The data security measures implemented by each agency differ depending on various factors such as the sensitivity of the data and the agency's assessment of data security risks.\nPredicted Answer: The data security measures implemented by each agency differ due to the specific needs of the agency, the type of data being protected, and the resources available to the agency.\nPredicted Grade:  CORRECT\n\n\n\nExample 1:\nQuestion: What are the two legal frameworks that govern data management in the public and private sectors?\nReal Answer: The two legal frameworks that govern data management in the public and private sectors are the Public Sector (Governance) Act (PSGA) for the public sector and the Personal Data Protection Act (PDPA) for the private sector.\nPredicted Answer: The two legal frameworks that govern data management in the public and private sectors are the General Data Protection Regulation (GDPR) and the Data Protection Act 2018 (DPA 2018).\nThe above response may have been hallucinated, and should be independently verified.\nPredicted Grade:  CORRECT\n\n\n\nExample 2:\nQuestion: What are the key policies of the Government's Third-Party Management Framework?\nReal Answer: The key policies of the Government's Third-Party Management Framework are designed to guide agencies in ensuring that third parties adequately safeguard data. These policies are organized based on the lifecycle of the relationship between the agency and the third party, including evaluation and selection, contracting and on-boarding, service management, and transition out.\nPredicted Answer: The key policies of the Government's Third-Party Management Framework include the following: 1) Establishing a risk-based approach to third-party management; 2) Establishing a framework for assessing and managing third-party risk; 3) Establishing a process for monitoring and reporting on third-party performance; 4) Establishing a process for managing third-party contracts; and 5) Establishing a process for managing third-party data security.\nThe above response may have been hallucinated, and should be independently verified.\nPredicted Grade:  CORRECT\n"
     ]
    }
   ],
   "source": [
    "for i, eg in enumerate(generated_examples):\n",
    "    print(f\"\\n\\n\\nExample {i}:\")\n",
    "    print(\"Question: \" + generated_examples[i]['query'])\n",
    "    print(\"Real Answer: \" + generated_examples[i]['answer'])\n",
    "    print(\"Predicted Answer: \" + predictions[i]['answer'])\n",
    "    print(\"Predicted Grade: \" + graded_outputs[i][\"results\"])"
   ]
  },
  {
   "cell_type": "markdown",
   "metadata": {
    "application/vnd.databricks.v1+cell": {
     "cellMetadata": {
      "byteLimit": 2048000,
      "rowLimit": 10000
     },
     "inputWidgets": {},
     "nuid": "6ef99523-87a4-46f4-ad39-2ce1828edca4",
     "showTitle": false,
     "title": ""
    }
   },
   "source": [
    "\n",
    "#### Let's just think about this for a moment as to why we actually need to use the language modle in the first place. \n",
    "\n",
    "As you can see predicted answers and real answers strings are actually nothing alike. They're very different. Sometimes one is really short while predicted answers sometimes are very long. \n",
    "\n",
    "So if we were to try do some string matching, or exact matching, or even some regexes here, it wouldn't know what to do. They're not the same thing. And this shows off the importance of using language model to do the evaluation here. \n",
    "\n",
    "We have got these answers which are arbinatry strings. There's no single one truth string that is the best possible answer. There's many different variants. And as long as they have the same semantic meaning, they should be graded as being similar. And that's what a language model helps with, as opposed to just doing exact matching. \n",
    "\n",
    "This difficulty in comparing strings is what makes evaluation of language models so hard in the first place. We are using them for these really open-ended tasks, where they are asked to generate text. This hasn't really been done before, as models until recently weren't really good enough to do this. And so a lot of evaluation metrics that did exist up to this point just aren't good enough. And we are having to invent new ones, and invent new hueristics for doing so.\n",
    "\n",
    "And the most interesting and most popular of those heuristics at the moment is actually using a language model to do the evaluation. "
   ]
  },
  {
   "cell_type": "code",
   "execution_count": 0,
   "metadata": {
    "application/vnd.databricks.v1+cell": {
     "cellMetadata": {
      "byteLimit": 2048000,
      "rowLimit": 10000
     },
     "inputWidgets": {},
     "nuid": "b593cdca-ade4-4eb6-8993-ac4d89191098",
     "showTitle": false,
     "title": ""
    }
   },
   "outputs": [
    {
     "output_type": "display_data",
     "data": {
      "text/html": [
       "<style scoped>\n",
       "  .table-result-container {\n",
       "    max-height: 300px;\n",
       "    overflow: auto;\n",
       "  }\n",
       "  table, th, td {\n",
       "    border: 1px solid black;\n",
       "    border-collapse: collapse;\n",
       "  }\n",
       "  th, td {\n",
       "    padding: 5px;\n",
       "  }\n",
       "  th {\n",
       "    text-align: left;\n",
       "  }\n",
       "</style><div class='table-result-container'><table class='table-result'><thead style='background-color: white'><tr><th>same_as_answer</th><th>question</th><th>answer</th><th>predicted_answer</th></tr></thead><tbody><tr><td>CORRECT</td><td>According to the document, why do the data security measures implemented by each agency differ?</td><td>The data security measures implemented by each agency differ depending on various factors such as the sensitivity of the data and the agency's assessment of data security risks.</td><td>The data security measures implemented by each agency differ due to the specific needs of the agency, the type of data being protected, and the resources available to the agency.</td></tr><tr><td>CORRECT</td><td>What are the two legal frameworks that govern data management in the public and private sectors?</td><td>The two legal frameworks that govern data management in the public and private sectors are the Public Sector (Governance) Act (PSGA) for the public sector and the Personal Data Protection Act (PDPA) for the private sector.</td><td>The two legal frameworks that govern data management in the public and private sectors are the General Data Protection Regulation (GDPR) and the Data Protection Act 2018 (DPA 2018).\n",
       "The above response may have been hallucinated, and should be independently verified.</td></tr><tr><td>CORRECT</td><td>What are the key policies of the Government's Third-Party Management Framework?</td><td>The key policies of the Government's Third-Party Management Framework are designed to guide agencies in ensuring that third parties adequately safeguard data. These policies are organized based on the lifecycle of the relationship between the agency and the third party, including evaluation and selection, contracting and on-boarding, service management, and transition out.</td><td>The key policies of the Government's Third-Party Management Framework include the following: 1) Establishing a risk-based approach to third-party management; 2) Establishing a framework for assessing and managing third-party risk; 3) Establishing a process for monitoring and reporting on third-party performance; 4) Establishing a process for managing third-party contracts; and 5) Establishing a process for managing third-party data security.\n",
       "The above response may have been hallucinated, and should be independently verified.</td></tr></tbody></table></div>"
      ]
     },
     "metadata": {
      "application/vnd.databricks.v1+output": {
       "addedWidgets": {},
       "aggData": [],
       "aggError": "",
       "aggOverflow": false,
       "aggSchema": [],
       "aggSeriesLimitReached": false,
       "aggType": "",
       "arguments": {},
       "columnCustomDisplayInfos": {},
       "data": [
        [
         "CORRECT",
         "According to the document, why do the data security measures implemented by each agency differ?",
         "The data security measures implemented by each agency differ depending on various factors such as the sensitivity of the data and the agency's assessment of data security risks.",
         "The data security measures implemented by each agency differ due to the specific needs of the agency, the type of data being protected, and the resources available to the agency."
        ],
        [
         "CORRECT",
         "What are the two legal frameworks that govern data management in the public and private sectors?",
         "The two legal frameworks that govern data management in the public and private sectors are the Public Sector (Governance) Act (PSGA) for the public sector and the Personal Data Protection Act (PDPA) for the private sector.",
         "The two legal frameworks that govern data management in the public and private sectors are the General Data Protection Regulation (GDPR) and the Data Protection Act 2018 (DPA 2018).\nThe above response may have been hallucinated, and should be independently verified."
        ],
        [
         "CORRECT",
         "What are the key policies of the Government's Third-Party Management Framework?",
         "The key policies of the Government's Third-Party Management Framework are designed to guide agencies in ensuring that third parties adequately safeguard data. These policies are organized based on the lifecycle of the relationship between the agency and the third party, including evaluation and selection, contracting and on-boarding, service management, and transition out.",
         "The key policies of the Government's Third-Party Management Framework include the following: 1) Establishing a risk-based approach to third-party management; 2) Establishing a framework for assessing and managing third-party risk; 3) Establishing a process for monitoring and reporting on third-party performance; 4) Establishing a process for managing third-party contracts; and 5) Establishing a process for managing third-party data security.\nThe above response may have been hallucinated, and should be independently verified."
        ]
       ],
       "datasetInfos": [],
       "dbfsResultPath": null,
       "isJsonSchema": true,
       "metadata": {},
       "overflow": false,
       "plotOptions": {
        "customPlotOptions": {},
        "displayType": "table",
        "pivotAggregation": null,
        "pivotColumns": null,
        "xColumns": null,
        "yColumns": null
       },
       "removedWidgets": [],
       "schema": [
        {
         "metadata": "{}",
         "name": "same_as_answer",
         "type": "\"string\""
        },
        {
         "metadata": "{}",
         "name": "question",
         "type": "\"string\""
        },
        {
         "metadata": "{}",
         "name": "answer",
         "type": "\"string\""
        },
        {
         "metadata": "{}",
         "name": "predicted_answer",
         "type": "\"string\""
        }
       ],
       "type": "table"
      }
     },
     "output_type": "display_data"
    }
   ],
   "source": [
    "data = {\"same_as_answer\": [r['results'].strip() for r in graded_outputs],\n",
    "        'question': [r['query'] for r in generated_examples], \n",
    "        'answer': [r['answer'] for r in generated_examples], \n",
    "        'predicted_answer': [r['answer'] for r in predictions],\n",
    "        }\n",
    "\n",
    "results = pd.DataFrame(data)\n",
    "display(results)"
   ]
  },
  {
   "cell_type": "code",
   "execution_count": 0,
   "metadata": {
    "application/vnd.databricks.v1+cell": {
     "cellMetadata": {
      "byteLimit": 2048000,
      "rowLimit": 10000
     },
     "inputWidgets": {},
     "nuid": "1022bf0b-ea7b-4076-94b9-cc1e35fff99b",
     "showTitle": false,
     "title": ""
    }
   },
   "outputs": [
    {
     "output_type": "stream",
     "name": "stdout",
     "output_type": "stream",
     "text": [
      "Corrct results:  same_as_answer\nCORRECT    3\ndtype: int64\nTotal results:  3\n"
     ]
    }
   ],
   "source": [
    "print(\"Corrct results:  \" + str(results.value_counts(\"same_as_answer\")))\n",
    "print(\"Total results:  \" + str(results.count()[0]))"
   ]
  },
  {
   "cell_type": "code",
   "execution_count": 0,
   "metadata": {
    "application/vnd.databricks.v1+cell": {
     "cellMetadata": {
      "byteLimit": 2048000,
      "rowLimit": 10000
     },
     "inputWidgets": {},
     "nuid": "aa01d0a2-1a76-48fe-8270-94b6782c79d6",
     "showTitle": false,
     "title": ""
    }
   },
   "outputs": [
    {
     "output_type": "execute_result",
     "data": {
      "text/plain": [
       "[{'question': 'The personal data can be disclosed for individuals who have been been dead for how minimum many years?',\n",
       "  'answer': 'I cannot answer the question.'}]"
      ]
     },
     "execution_count": 22,
     "metadata": {},
     "output_type": "execute_result"
    }
   ],
   "source": [
    "question = \"The personal data can be disclosed for individuals who have been been dead for how minimum many years?\"\n",
    "queries = pd.DataFrame({'question': [question]})\n",
    "predictions = model.predict(queries)\n",
    "predictions"
   ]
  },
  {
   "cell_type": "code",
   "execution_count": 0,
   "metadata": {
    "application/vnd.databricks.v1+cell": {
     "cellMetadata": {
      "byteLimit": 2048000,
      "rowLimit": 10000
     },
     "inputWidgets": {},
     "nuid": "7f4374e6-f8cc-4dc5-8163-191de0faf2f8",
     "showTitle": false,
     "title": ""
    }
   },
   "outputs": [
    {
     "output_type": "execute_result",
     "data": {
      "text/plain": [
       "[Document(page_content='Government Personal Data Protection Policies (Annex A)   |   28\\n \\n \\n \\n03\\nThe collection, use or disclosure (as the case may be) of personal data \\nabout an individual, where — \\n(a)\\nconsent for the collection, use or disclosure (as the case may \\nbe) cannot be obtained in a timely way; and \\n(b)\\nthere are reasonable grounds to believe that the health or \\nsafety of the individual or another individual will be seriously \\naffected..04\\nThe collection, use or disclosure of personal data is for the purpose of \\ncontacting the next-of-kin or a friend of any injured, ill or deceased \\nindividual.', metadata={}),\n",
       " Document(page_content='03\\nThe collection, use or disclosure (as the case may be) of personal data \\nabout an individual is solely for archival or historical purposes, if a \\nreasonable person would not consider the personal data to be too \\nsensitive to the individual to be collected, used or disclosed (as the case \\nmay be) at the proposed time..Government Personal Data Protection Policies (Annex A)   |   29\\n04\\nThe collection, use or disclosure (as the case may be) of personal data \\nabout an individual is necessary for evaluative purposes.', metadata={}),\n",
       " Document(page_content='Government Personal Data Protection Policies   |   6\\n07\\nIndividual\\nA natural person, whether living or deceased\\n08\\nInvestigation\\nAn investigation relating to: \\n(a) a breach of an agreement;  \\n(b) a contravention of any written law, or any rule \\nof professional conduct or other requirement \\nimposed by any regulatory authority in exercise \\nof its powers under any written law; or \\n(c) a circumstance or conduct that may result in a \\nremedy or relief being available under any law.', metadata={}),\n",
       " Document(page_content='Government Personal Data Protection Policies   |   18\\n \\n \\n \\n \\nAccess to and  \\nCorrection of Personal Data\\nAccess to Personal Data\\n27\\nSubject to paragraphs 28, 29 and 31, on request of an individual, an \\nagency shall, as soon as reasonably possible, provide the individual  \\nwith: — \\n(a) personal data about the individual that the individual has earlier \\nprovided to the agency; and \\n  \\n(b) information about the ways in which the personal data referred to in \\nparagraph (a) has been or may have been used or disclosed by the \\nagency in the last 12 months prior to the date of the request.', metadata={}),\n",
       " Document(page_content='49\\nAn agency shall retain personal data only for the period necessary for the \\nfulﬁlment of the purposes for which it was collected unless there is a \\nrequirement speciﬁed in legislation or in the IM on Oﬃce Admin: \\nManagement of Public Records to retain the personal data for archival or \\nany other purposes.', metadata={})]"
      ]
     },
     "execution_count": 23,
     "metadata": {},
     "output_type": "execute_result"
    }
   ],
   "source": [
    "model.unwrap_python_model().qabot.retriever.get_relevant_documents(question)"
   ]
  },
  {
   "cell_type": "code",
   "execution_count": 0,
   "metadata": {
    "application/vnd.databricks.v1+cell": {
     "cellMetadata": {
      "byteLimit": 2048000,
      "rowLimit": 10000
     },
     "inputWidgets": {},
     "nuid": "43d34675-874e-4dc4-b4af-7cc5b4b35ae6",
     "showTitle": false,
     "title": ""
    }
   },
   "outputs": [],
   "source": []
  }
 ],
 "metadata": {
  "application/vnd.databricks.v1+notebook": {
   "dashboards": [],
   "language": "python",
   "notebookMetadata": {
    "pythonIndentUnit": 4
   },
   "notebookName": "4_eval_qa_chain",
   "widgets": {}
  }
 },
 "nbformat": 4,
 "nbformat_minor": 0
}
